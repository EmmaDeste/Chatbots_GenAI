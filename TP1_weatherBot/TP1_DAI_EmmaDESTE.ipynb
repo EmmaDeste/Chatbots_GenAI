{
 "cells": [
  {
   "cell_type": "markdown",
   "id": "e1a025ee",
   "metadata": {},
   "source": [
    "# TP1 Rule-based Chatbot - 6 November 2024 - Emma DESTÉ"
   ]
  },
  {
   "cell_type": "markdown",
   "id": "b330beed",
   "metadata": {},
   "source": [
    "## <span style=\"color:red; font-weight:bold;\">1) Regex</span>\n",
    "\n",
    "- Any word (means only alphanumeric characters) in the paragraph with a length of 4"
   ]
  },
  {
   "cell_type": "code",
   "execution_count": 1,
   "id": "206f940d",
   "metadata": {},
   "outputs": [],
   "source": [
    "import re  # library to test regex"
   ]
  },
  {
   "cell_type": "code",
   "execution_count": 2,
   "id": "f6688c83",
   "metadata": {},
   "outputs": [],
   "source": [
    "regex1 = r'\\b\\w{4}\\b'\n",
    "# \\b to define boundaries : see documentation https://docs.python.org/3/library/re.html"
   ]
  },
  {
   "cell_type": "code",
   "execution_count": 3,
   "id": "86bbc723",
   "metadata": {},
   "outputs": [
    {
     "name": "stdout",
     "output_type": "stream",
     "text": [
      "['fact', 'that', 'Test', '1234']\n"
     ]
    }
   ],
   "source": [
    "sentence = \"My fun fact is that I did aerial acrobatics during 6 years, a circus sport. Test 1234\"\n",
    "\n",
    "print(re.findall(regex1, sentence))\n",
    "# findall(pattern, paragraph) to match words in a sentence : see documentation https://docs.python.org/3/library/re.html"
   ]
  },
  {
   "cell_type": "markdown",
   "id": "efdfce1d",
   "metadata": {},
   "source": [
    "- A duplication in the sentence that contain 2 same words separated by space, for example “ Paris in the the spring.”"
   ]
  },
  {
   "cell_type": "code",
   "execution_count": 4,
   "id": "45aeac6e",
   "metadata": {},
   "outputs": [],
   "source": [
    "regex2 = r'\\b(\\w+)\\s+\\1\\b'\n",
    "# () to catch only the duplicate word"
   ]
  },
  {
   "cell_type": "code",
   "execution_count": 5,
   "id": "9ab43cf2",
   "metadata": {},
   "outputs": [
    {
     "name": "stdout",
     "output_type": "stream",
     "text": [
      "['the']\n"
     ]
    }
   ],
   "source": [
    "sentence = \"Paris in the the spring.\"\n",
    "\n",
    "print(re.findall(regex2, sentence))"
   ]
  },
  {
   "cell_type": "markdown",
   "id": "5833447b",
   "metadata": {},
   "source": [
    "- A string containing the email address, for example, name@gmail.com. Make 1 big group and 2 nested ones to capture the name and the domain (e.g. gmail) using the same regex pattern."
   ]
  },
  {
   "cell_type": "code",
   "execution_count": 6,
   "id": "d85b9065",
   "metadata": {},
   "outputs": [],
   "source": [
    "regex3 = r'((\\S+)@(\\w+)\\.com)'\n",
    "# regex3 = r'((\\w+)@(\\w+).com)' if name must be alphanumeric\n",
    "# () to ≠ capture groups"
   ]
  },
  {
   "cell_type": "code",
   "execution_count": 7,
   "id": "a813763f",
   "metadata": {},
   "outputs": [
    {
     "name": "stdout",
     "output_type": "stream",
     "text": [
      "Full email : emma@efrei.com\n",
      "Name : emma\n",
      "Domain : efrei\n"
     ]
    }
   ],
   "source": [
    "email = \"emma@efrei.com\"\n",
    "\n",
    "mail = re.match(regex3, email)\n",
    "# match(pattern, string) to check 0 or more characters at the beginning of string match the regex : see documentation https://docs.python.org/3/library/re.html\n",
    "print(\"Full email :\", mail.group(1))\n",
    "print(\"Name :\", mail.group(2))\n",
    "print(\"Domain :\", mail.group(3))"
   ]
  },
  {
   "cell_type": "markdown",
   "id": "60593153",
   "metadata": {},
   "source": [
    "- A string that represents time in HH:mm:ss format. HH is hours between 01 and 12. mm and ss represent minutes and seconds, and each is between 00 and 59. Valid examples include 01:26:18 and 11:00:39. Invalid examples include 13:01:01, 00:00:00, and 01:00:60."
   ]
  },
  {
   "cell_type": "code",
   "execution_count": 8,
   "id": "70f3d927",
   "metadata": {},
   "outputs": [],
   "source": [
    "regex4 = r'^(0[1-9]|1[0-2]):[0-5][0-9]:[0-5][0-9]$'\n",
    "# 0 followed by any digit except 0, but 1 followed by 0 1 or 2 only"
   ]
  },
  {
   "cell_type": "code",
   "execution_count": 9,
   "id": "0818e203",
   "metadata": {},
   "outputs": [
    {
     "name": "stdout",
     "output_type": "stream",
     "text": [
      "11:26:18 True\n",
      "11:00:39 True\n",
      "13:01:01 False\n",
      "00:00:00 False\n",
      "01:00:60 False\n"
     ]
    }
   ],
   "source": [
    "print(\"11:26:18\", bool(re.match(regex4, \"11:26:18\")))\n",
    "print(\"11:00:39\", bool(re.match(regex4, \"11:00:39\")))\n",
    "print(\"13:01:01\", bool(re.match(regex4, \"13:01:01\")))\n",
    "print(\"00:00:00\", bool(re.match(regex4, \"00:00:00\")))\n",
    "print(\"01:00:60\", bool(re.match(regex4, \"01:00:60\")))"
   ]
  },
  {
   "cell_type": "markdown",
   "id": "650f6cc3",
   "metadata": {},
   "source": [
    "- Write a regex expression that extracts information from a debug file, where we need to capture the filename, method name, and line number from the lines. Capture infor from lines that follow the form “at package.class.methodname(filename:linenumber)”"
   ]
  },
  {
   "cell_type": "code",
   "execution_count": 10,
   "id": "ce8c4461",
   "metadata": {},
   "outputs": [],
   "source": [
    "regex5 = r'at\\s+[\\w\\.]+\\.([\\w]+)\\(([\\w\\.]+):(\\d+)\\)'\n",
    "# should contain at [package] (classe) (methodname) ((filename):(linenumber))"
   ]
  },
  {
   "cell_type": "code",
   "execution_count": 11,
   "id": "99f6222b",
   "metadata": {},
   "outputs": [
    {
     "name": "stdout",
     "output_type": "stream",
     "text": [
      " ✅ Match method makeView, filename ListView.java, line 1727\n",
      " ✅ Match method fillDown, filename ListView, line 652\n",
      " ✅ Match method fillFrom, filename Hello_world, line 709\n",
      "Don't match W/dalvikvm( 1553): threadid=1: uncaught exception\n",
      "Don't match E/( 1553): FATAL EXCEPTION: main\n",
      "Don't match E/( 1553): java.lang.StringIndexOutOfBoundsException\n"
     ]
    }
   ],
   "source": [
    "debug_lines = [\n",
    "    \"E/( 1553): at widget.List.makeView(ListView.java:1727)\",\n",
    "    \"E/( 1553): at widget.List.fillDown(ListView:652)\",\n",
    "    \"E/( 1553): at widget.List.fillFrom(Hello_world:709)\",\n",
    "    \"W/dalvikvm( 1553): threadid=1: uncaught exception\",\n",
    "    \"E/( 1553): FATAL EXCEPTION: main\",\n",
    "    \"E/( 1553): java.lang.StringIndexOutOfBoundsException\"\n",
    "]\n",
    "\n",
    "for l in debug_lines:\n",
    "    match = re.search(regex5, l)\n",
    "    # search(pattern, string) to locate a match anywhere in string\n",
    "    if match:\n",
    "        method_name = match.group(1)\n",
    "        filename = match.group(2)\n",
    "        line_number = match.group(3)\n",
    "        print(f\" ✅ Match method {method_name}, filename {filename}, line {line_number}\")\n",
    "    else:\n",
    "        print(f\"Don't match {l}\")"
   ]
  },
  {
   "cell_type": "markdown",
   "id": "da13504f",
   "metadata": {},
   "source": [
    "- You are given a string containing a mix of words, symbols, and whitespace. Your task is to use regular expressions to format the string such that:\n",
    "\n",
    "-Each word and symbol sequence is separated by a single space.\n",
    "\n",
    "-Allowed characters in each sequence include alphanumeric characters, underscores (_), and the symbols ', /, +, $, space, -\n",
    "\n",
    "-All other symbols should be separated by a single space.\n",
    "\n",
    "-Any extra whitespace should be removed."
   ]
  },
  {
   "cell_type": "code",
   "execution_count": 12,
   "id": "cc99da8f",
   "metadata": {},
   "outputs": [],
   "source": [
    "# -> Preprocessing the data\n",
    "def regex6(input_msg):\n",
    "\n",
    "    # 1) define authorized symbols & add spaces around\n",
    "    str_msg = re.sub(r\"([^a-zA-Z0-9_/$+\\-])\", r\" \\1 \", input_msg)\n",
    "    \n",
    "    # 2) Remove extra spaces\n",
    "    str_msg = re.sub(r\"\\s+\", \" \", str_msg).strip()\n",
    "\n",
    "    return str_msg"
   ]
  },
  {
   "cell_type": "code",
   "execution_count": 13,
   "id": "2688fd1c",
   "metadata": {},
   "outputs": [
    {
     "name": "stdout",
     "output_type": "stream",
     "text": [
      "Hello, World!$500 +enjoy chatbot-2024.\n",
      "=>  Hello , World ! $500 +enjoy chatbot-2024 .\n",
      "Total is $100+$20 - discount.\n",
      "=>  Total is $100+$20 - discount .\n",
      "Python/regex - quick_example!End\n",
      "=>  Python/regex - quick_example ! End\n"
     ]
    }
   ],
   "source": [
    "strings = [\n",
    "    \"Hello, World!$500 +enjoy chatbot-2024.\",\n",
    "    \"Total is $100+$20 - discount.\",\n",
    "    \"Python/regex - quick_example!End\"\n",
    "]\n",
    "\n",
    "for s in strings:\n",
    "    print(s)\n",
    "    print('=> ', regex6(s))"
   ]
  },
  {
   "cell_type": "markdown",
   "id": "b5eb9c42",
   "metadata": {},
   "source": [
    "## <span style=\"color:red; font-weight:bold;\">2) NLTK</span>"
   ]
  },
  {
   "cell_type": "code",
   "execution_count": 14,
   "id": "7c7c8146",
   "metadata": {},
   "outputs": [],
   "source": [
    "import nltk\n",
    "from nltk.chat.util import Chat, reflections"
   ]
  },
  {
   "cell_type": "code",
   "execution_count": 15,
   "id": "5f266ca8",
   "metadata": {},
   "outputs": [
    {
     "name": "stdout",
     "output_type": "stream",
     "text": [
      "{'i am': 'you are', 'i was': 'you were', 'i': 'you', \"i'm\": 'you are', \"i'd\": 'you would', \"i've\": 'you have', \"i'll\": 'you will', 'my': 'your', 'you are': 'I am', 'you were': 'I was', \"you've\": 'I have', \"you'll\": 'I will', 'your': 'my', 'yours': 'mine', 'you': 'me', 'me': 'you'}\n"
     ]
    }
   ],
   "source": [
    "print(reflections)"
   ]
  },
  {
   "cell_type": "markdown",
   "id": "7aebab23",
   "metadata": {},
   "source": [
    "Rules set up :"
   ]
  },
  {
   "cell_type": "code",
   "execution_count": 16,
   "id": "a87d3ac3",
   "metadata": {},
   "outputs": [],
   "source": [
    "pairs = [\n",
    "    [ r\"my name is (.*)\"\n",
    "    ,\n",
    "    [\" Hello %1, How are you today ?\" ,]\n",
    "    ],\n",
    "    [ r\"hi|hey| hello\"\n",
    "    ,\n",
    "    [\" Hello \"\n",
    "    ,\n",
    "    \"Hey there \" ,]\n",
    "    ],\n",
    "    [ r\"how are you ?\"\n",
    "    ,\n",
    "    [\"I'm doing good , and How about You ?\" ,]\n",
    "    ],\n",
    "    [ r\" what is your name ?\"\n",
    "    ,\n",
    "    [\"I am a bot created test . you can call me Bot!\" ,]\n",
    "    ],\n",
    "    [ r\" sorry (.*)\"\n",
    "    ,\n",
    "    [\"Its alright \"\n",
    "    ,\n",
    "    \"Its OK , never mind \" ,]\n",
    "    ],\n",
    "    [ r\" (.*) age?\"\n",
    "    ,\n",
    "    [\"I'm a computer program , seriously you are asking me this ?\" ,]\n",
    "    ],\n",
    "    \n",
    "    [ r\"tell me a joke\"\n",
    "    ,\n",
    "    [\"Why can't cats work on the computer? They get too distracted chasing the mouse around. \" ,]\n",
    "    ],\n",
    "    [ r\"can you (.*)?\"\n",
    "    ,\n",
    "    [\"Of course I can %1, but please don't ask me I'm shy \" ,]\n",
    "    ],\n",
    "    [ r\"i feel sad (.*)\"\n",
    "    ,\n",
    "    [\"Sorry to hear that, maybe you can talk to your friends or call a professionnal at 09 72 39 40 50\" ,]\n",
    "    ],\n",
    "    [ r\"i hate (.*)\"\n",
    "    ,\n",
    "    [\"Hate is a strong word, poor %1. Let’s find something you enjoy more! Like aquaponey 🐎\" ,]\n",
    "    ]\n",
    "]"
   ]
  },
  {
   "cell_type": "markdown",
   "id": "7c893372",
   "metadata": {},
   "source": [
    "Conversation with the bot :"
   ]
  },
  {
   "cell_type": "code",
   "execution_count": 17,
   "id": "5e46ebd3",
   "metadata": {},
   "outputs": [],
   "source": [
    "def chat():\n",
    "    print (\"Hi! I am Bot\")\n",
    "    chat = Chat(pairs, reflections)\n",
    "\n",
    "    # write quit to stop the conversation\n",
    "    if input().lower() != \"quit\":\n",
    "        response = chat.converse()\n",
    "    else:\n",
    "        print(\"Bot: Goodbye! Have a nice day!\")"
   ]
  },
  {
   "cell_type": "code",
   "execution_count": 18,
   "id": "6e4aa390",
   "metadata": {},
   "outputs": [
    {
     "name": "stdout",
     "output_type": "stream",
     "text": [
      "Hi! I am Bot\n",
      "hi\n",
      ">can you sing?\n",
      "Of course I can sing?, but please don't ask me I'm shy \n",
      ">tell me a joke\n",
      "Why can't cats work on the computer? They get too distracted chasing the mouse around. \n",
      ">quit\n",
      "None\n"
     ]
    }
   ],
   "source": [
    "chat()"
   ]
  },
  {
   "cell_type": "markdown",
   "id": "b8963029",
   "metadata": {},
   "source": [
    "## <span style=\"color:red; font-weight:bold;\">3) Rule-based Weather Bot </span>"
   ]
  },
  {
   "cell_type": "markdown",
   "id": "3d2a9431",
   "metadata": {},
   "source": [
    "<span style=\"color:green; font-weight:bold;\">1 - Intents & Responses</span>"
   ]
  },
  {
   "cell_type": "markdown",
   "id": "9d218b9e",
   "metadata": {},
   "source": [
    "- Step 1 : Building a keywords dictionary where the values are the keywords and the key is the corresponding intent\n"
   ]
  },
  {
   "cell_type": "code",
   "execution_count": 19,
   "id": "47abef62",
   "metadata": {},
   "outputs": [],
   "source": [
    "intent_keywords = {\n",
    "    'greetings': ['hello', 'howdy', 'hi', 'hullo', 'how do you do', 'hey'],\n",
    "    'time': ['time', 'clock', 'what time', 'hours', 'minute', 'second'],\n",
    "    'ending': ['goodbye', 'bye', 'see you', 'take care', 'farewell', 'catch you later'],\n",
    "    \n",
    "    'thanks': ['thank you', 'thanks', 'thanks a lot', 'many thanks', 'much appreciated'],\n",
    "    'apology': ['sorry', 'my bad', 'apologies', 'excuse me', 'pardon me', 'i apologize'],\n",
    "    'help': ['help', 'assist', 'support', 'need assistance', 'help me'],\n",
    "    'affirmation': ['yes', 'yeah', 'yep', 'of course', 'definitely', 'sure'],\n",
    "    'location': ['where', 'located', 'find', 'address', 'place'] \n",
    "}"
   ]
  },
  {
   "cell_type": "markdown",
   "id": "80ce9610",
   "metadata": {},
   "source": [
    "- Step 2 : Building the responses dictionnary"
   ]
  },
  {
   "cell_type": "code",
   "execution_count": 20,
   "id": "e6906c9d",
   "metadata": {},
   "outputs": [],
   "source": [
    "responses = {\n",
    "    'greetings': [\n",
    "        \"Hello! How can I help you today?\",\n",
    "        \"Hi, you look well today!\",\n",
    "        \"Welcome here!\",\n",
    "        \"Hiii... I am a bot, how are you?\",\n",
    "        \"Hey there, how's it going?\",\n",
    "        \"Hello, how can I assist you today?\",\n",
    "    ],\n",
    "    'time': [\n",
    "        \"The current time is 3:45 PM.\",\n",
    "        \"It's 10:30 in the morning right now.\",\n",
    "        \"The time is 8:00 AM, bright and early!\",\n",
    "        \"It’s 6:45, almost time for dinner!\",\n",
    "        \"It's 1:00 PM, right after lunch!\"\n",
    "    ],\n",
    "    'ending': [\n",
    "        \"Goodbye! Have a great day!\",\n",
    "        \"Take care, hope to chat soon!\",\n",
    "        \"Bye, and feel free to come back anytime!\",\n",
    "        \"Catch you later, take care!\",\n",
    "        \"Goodbye, and best wishes!\"\n",
    "    ],\n",
    "    \n",
    "    'thanks': [\n",
    "        \"You're welcome! 😊\",\n",
    "        \"No problem at all!\",\n",
    "        \"Glad I could help!\",\n",
    "        \"You're very welcome!\",\n",
    "        \"Anytime! Happy to help!\"\n",
    "    ],\n",
    "    'apology': [\n",
    "        \"Sorry about that! How can I assist you better?\",\n",
    "        \"My bad! Please forgive me.\",\n",
    "        \"I apologize for the inconvenience!\",\n",
    "        \"Oops, I’m sorry. Let me fix that!\"\n",
    "    ],\n",
    "    'help': [\n",
    "        \"How can I assist you today?\",\n",
    "        \"What do you need help with?\",\n",
    "        \"I'm here to help! How can I assist you?\",\n",
    "        \"Please tell me how I can help.\",\n",
    "        \"What’s on your mind? I can help!\"\n",
    "    ],\n",
    "    'affirmation': [\n",
    "        \"Yes, absolutely!\",\n",
    "        \"Of course we agree!\",\n",
    "        \"Sure thing!\",\n",
    "        \"Definitely!\",\n",
    "        \"For sure!\"\n",
    "    ],\n",
    "    'location': [\n",
    "        \"I’m here to help you. Where exactly are you trying to go?\",\n",
    "        \"Can you specify the location?\",\n",
    "        \"Could you give me more details about the place?\",\n",
    "        \"Where exactly are you looking for?\",\n",
    "        \"What’s the address you need help with?\",\n",
    "    ]\n",
    "}"
   ]
  },
  {
   "cell_type": "markdown",
   "id": "e3b6398c",
   "metadata": {},
   "source": [
    "<span style=\"color:green; font-weight:bold;\">2 - WordNet</span>\n",
    "\n",
    "WordNet = lexical database that defines the semantic relationships between words"
   ]
  },
  {
   "cell_type": "code",
   "execution_count": 21,
   "id": "8ec7dc4e",
   "metadata": {},
   "outputs": [
    {
     "name": "stderr",
     "output_type": "stream",
     "text": [
      "[nltk_data] Downloading package wordnet to /Users/emma/nltk_data...\n",
      "[nltk_data]   Package wordnet is already up-to-date!\n"
     ]
    },
    {
     "data": {
      "text/plain": [
       "True"
      ]
     },
     "execution_count": 21,
     "metadata": {},
     "output_type": "execute_result"
    }
   ],
   "source": [
    "import nltk\n",
    "from nltk.corpus import wordnet as wn\n",
    "\n",
    "# to avoid error : Resource wordnet not found. Please use the NLTK Downloader to obtain the resource\n",
    "nltk.download('wordnet')\n",
    "#nltk.download('omw-1.4')"
   ]
  },
  {
   "cell_type": "code",
   "execution_count": 22,
   "id": "6a151ae2",
   "metadata": {},
   "outputs": [],
   "source": [
    "def extend_1keyword(keyword):\n",
    "    synonyms = set()\n",
    "\n",
    "    # see main functions described in https://www.nltk.org/howto/wordnet.html\n",
    "    for syn in wn.synsets(keyword): \n",
    "        for lemma in syn.lemmas():\n",
    "            lemma_name = lemma.name().lower()  # extract name and convert to lowercase\n",
    "\n",
    "            # Avoid words with special characters or accented letters\n",
    "            if re.match(r'^[a-zA-Z0-9_]+$', lemma_name):\n",
    "                synonyms.add(lemma_name)\n",
    "\n",
    "    synonyms = list(synonyms)\n",
    "    return synonyms\n",
    "    \n",
    "\n",
    "def extend_keywords(my_keywords_dict):\n",
    "    \"\"\"\n",
    "    This function extends the keywords dictionary by adding synonyms for each keyword.\n",
    "    \"\"\"\n",
    "    extended_keywords_dict = {}  # initializing the new dictionnary\n",
    "    \n",
    "    for intent, keywords in my_keywords_dict.items():\n",
    "        extended_keywords = set(keywords)  # start with original keywords\n",
    "        \n",
    "        \n",
    "        # For each keyword, find synonyms in WordNet and add them to the set\n",
    "        for keyword in keywords:\n",
    "            synonyms_keyword = extend_1keyword(keyword)\n",
    "            extended_keywords.update(synonyms_keyword)  # add synonyms to the set\n",
    "        \n",
    "        # Store the extended keyword list for this intent\n",
    "        extended_keywords_dict[intent] = list(extended_keywords)\n",
    "    \n",
    "    return extended_keywords_dict"
   ]
  },
  {
   "cell_type": "code",
   "execution_count": 23,
   "id": "830e849c",
   "metadata": {},
   "outputs": [
    {
     "name": "stdout",
     "output_type": "stream",
     "text": [
      "greetings  :  ['how do you do', 'hi', 'hawaii', 'aloha_state', 'hullo', 'hey', 'hello', 'howdy']\n",
      "----------\n",
      "time  :  ['bit', 'second_base', 'time_of_day', 'hr', 'second', 'clip', 'secondment', 'fourth_dimension', 'hour', 'min', '2d', 'endorse', 'what time', 'mo', 'time', 'indorsement', 'minute', 'hours', 'prison_term', 'minute_of_arc', 'second_gear', 'arcsecond', '60_minutes', 'narrow', 'back', 'moment', 'sec', 'infinitesimal', 'meter', 'endorsement', 'secondly', 'clock_time', 'sentence', 'indorse', 'clock', 's', 'metre', 'irregular', 'arcminute', '2nd', 'instant']\n",
      "----------\n",
      "ending  :  ['catch you later', 'goodbye', 'word_of_farewell', 'leave', 'take care', 'au_revoir', 'good_day', 'parting', 'bye', 'farewell', 'arrivederci', 'see you', 'goodby', 'sayonara', 'pass', 'adios', 'auf_wiedersehen', 'cheerio', 'so_long', 'adieu']\n",
      "----------\n",
      "thanks  :  ['thanks a lot', 'thank', 'much appreciated', 'many thanks', 'thanks', 'thank you', 'give_thanks']\n",
      "----------\n",
      "apology  :  ['apologia', 'pitiful', 'dingy', 'excuse', 'distressing', 'apology', 'regretful', 'meritless', 'grim', 'dark', 'bad', 'lamentable', 'deplorable', 'blue', 'excuse me', 'dismal', 'sorry', 'drear', 'apologies', 'gloomy', 'dreary', 'drab', 'sad', 'i apologize', 'disconsolate', 'my bad', 'pardon me']\n",
      "----------\n",
      "help  :  ['backup', 'keep', 'stand', 'reinforcement', 'sustain', 'stomach', 'funding', 'abide', 'support', 'endorse', 'musical_accompaniment', 'help_oneself', 'financial_support', 'patronise', 'digest', 'supporting', 'hold_up', 'bear', 'aid', 'patronage', 'put_up', 'stick_out', 'substantiate', 'livelihood', 'back', 'documentation', 'brook', 'plunk_for', 'fend_for', 'hold', 'keep_going', 'help', 'back_up', 'plump_for', 'suffer', 'attend_to', 'need assistance', 'bread_and_butter', 'avail', 'assist', 'facilitate', 'tolerate', 'confirm', 'endure', 'financial_backing', 'bear_out', 'service', 'defend', 'living', 'assistant', 'helper', 'supporter', 'patronize', 'wait_on', 'reenforcement', 'sustenance', 'indorse', 'attend', 'affirm', 'serve', 'help me', 'backing', 'underpin', 'accompaniment', 'assistance', 'corroborate', 'subscribe']\n",
      "----------\n",
      "affirmation  :  ['yes', 'unquestionably', 'decidedly', 'of course', 'in_spades', 'sure_as_shooting', 'by_all_odds', 'yea', 'definitely', 'surely', 'emphatically', 'sure', 'certainly', 'certain', 'sure_enough', 'for_certain', 'for_sure', 'indisputable', 'yeah', 'yep', 'trusted']\n",
      "----------\n",
      "location  :  ['rank', 'come_up', 'obtain', 'bump', 'seat', 'observe', 'turn_up', 'position', 'receive', 'rule', 'retrieve', 'speech', 'place', 'name_and_address', 'get_hold', 'identify', 'situated', 'destination', 'breakthrough', 'rate', 'site', 'cover', 'post', 'pose', 'turn_to', 'target', 'come_in', 'come_up_to', 'office', 'detect', 'lieu', 'feel', 'find', 'chance', 'billet', 'settle', 'situation', 'localise', 'incur', 'piazza', 'range', 'topographic_point', 'situate', 'recover', 'speak', 'find_oneself', 'deal', 'reference', 'determine', 'uncovering', 'find_out', 'locate', 'point', 'localize', 'come_out', 'berth', 'put', 'space', 'property', 'encounter', 'grade', 'lay', 'discovery', 'direct', 'order', 'located', 'ascertain', 'see', 'accost', 'address', 'invest', 'placed', 'happen', 'where', 'computer_address', 'shoes', 'discover', 'blank_space', 'stead', 'regain', 'line_up', 'call', 'get', 'send', 'set', 'notice', 'handle', 'commit', 'witness', 'plaza', 'spot', 'aim', 'plow', 'station', 'home', 'treat']\n",
      "----------\n"
     ]
    }
   ],
   "source": [
    "#print(intent_keywords)\n",
    "extended_keywords_dict = extend_keywords(intent_keywords)\n",
    "\n",
    "for intent, keywords in extended_keywords_dict.items():\n",
    "    print(intent, ' : ', keywords)\n",
    "    print('----------')"
   ]
  },
  {
   "cell_type": "markdown",
   "id": "3212bb9c",
   "metadata": {},
   "source": [
    "Indeed, now the dictionnary contains way more keywords. \n",
    "\n",
    "<span style=\"color:green; font-weight:bold;\">3 - Matcher function</span>\n",
    "\n",
    "First, let's reformat the regex pattern corresponding to my list of keywords."
   ]
  },
  {
   "cell_type": "code",
   "execution_count": 24,
   "id": "2e277a43",
   "metadata": {},
   "outputs": [],
   "source": [
    "def word_to_regex(keywords_dict):\n",
    "    regex_dict = {}\n",
    "    regex_wordBegin = '.*\\\\b'\n",
    "    regex_wordEnd = '\\\\b.*|'  # add | in the pattern but remove the last occurence at the end of the loop\n",
    "    \n",
    "    for intent, keywords in keywords_dict.items():\n",
    "        keyword_reg = ''\n",
    "        \n",
    "        for keyword in keywords:\n",
    "            \n",
    "            if '_' in keyword: # nobody will write underscore when typing, so I remove this sign from keywords\n",
    "                keyword = keyword.replace('_', ' ')\n",
    "            \n",
    "            keyword_reg = keyword_reg + regex_wordBegin + keyword + regex_wordEnd\n",
    "            \n",
    "        keyword_reg = keyword_reg[:-1]  # remove the last | to avoid a syntax error\n",
    "        \n",
    "        regex_dict.update({intent : keyword_reg})\n",
    "        \n",
    "    return regex_dict"
   ]
  },
  {
   "cell_type": "markdown",
   "id": "186a3fec",
   "metadata": {},
   "source": [
    "Here is an example of what I want to obtain : {'greetings ': '.*\\\\bhullo\\\\b .*|.*\\\\bhow-do-you-do\\\\b.*|.*\\\\bhowdy\\\\b.*|.*\\\\bhello\\\\b.*|.*\\\\bhi\\\\b.*'}"
   ]
  },
  {
   "cell_type": "code",
   "execution_count": 25,
   "id": "998013e6",
   "metadata": {},
   "outputs": [
    {
     "name": "stdout",
     "output_type": "stream",
     "text": [
      "greetings : .*\\bhow do you do\\b.*|.*\\bhi\\b.*|.*\\bhawaii\\b.*|.*\\baloha state\\b.*|.*\\bhullo\\b.*|.*\\bhey\\b.*|.*\\bhello\\b.*|.*\\bhowdy\\b.*\n",
      "----------\n",
      "time : .*\\bbit\\b.*|.*\\bsecond base\\b.*|.*\\btime of day\\b.*|.*\\bhr\\b.*|.*\\bsecond\\b.*|.*\\bclip\\b.*|.*\\bsecondment\\b.*|.*\\bfourth dimension\\b.*|.*\\bhour\\b.*|.*\\bmin\\b.*|.*\\b2d\\b.*|.*\\bendorse\\b.*|.*\\bwhat time\\b.*|.*\\bmo\\b.*|.*\\btime\\b.*|.*\\bindorsement\\b.*|.*\\bminute\\b.*|.*\\bhours\\b.*|.*\\bprison term\\b.*|.*\\bminute of arc\\b.*|.*\\bsecond gear\\b.*|.*\\barcsecond\\b.*|.*\\b60 minutes\\b.*|.*\\bnarrow\\b.*|.*\\bback\\b.*|.*\\bmoment\\b.*|.*\\bsec\\b.*|.*\\binfinitesimal\\b.*|.*\\bmeter\\b.*|.*\\bendorsement\\b.*|.*\\bsecondly\\b.*|.*\\bclock time\\b.*|.*\\bsentence\\b.*|.*\\bindorse\\b.*|.*\\bclock\\b.*|.*\\bs\\b.*|.*\\bmetre\\b.*|.*\\birregular\\b.*|.*\\barcminute\\b.*|.*\\b2nd\\b.*|.*\\binstant\\b.*\n",
      "----------\n",
      "ending : .*\\bcatch you later\\b.*|.*\\bgoodbye\\b.*|.*\\bword of farewell\\b.*|.*\\bleave\\b.*|.*\\btake care\\b.*|.*\\bau revoir\\b.*|.*\\bgood day\\b.*|.*\\bparting\\b.*|.*\\bbye\\b.*|.*\\bfarewell\\b.*|.*\\barrivederci\\b.*|.*\\bsee you\\b.*|.*\\bgoodby\\b.*|.*\\bsayonara\\b.*|.*\\bpass\\b.*|.*\\badios\\b.*|.*\\bauf wiedersehen\\b.*|.*\\bcheerio\\b.*|.*\\bso long\\b.*|.*\\badieu\\b.*\n",
      "----------\n",
      "thanks : .*\\bthanks a lot\\b.*|.*\\bthank\\b.*|.*\\bmuch appreciated\\b.*|.*\\bmany thanks\\b.*|.*\\bthanks\\b.*|.*\\bthank you\\b.*|.*\\bgive thanks\\b.*\n",
      "----------\n",
      "apology : .*\\bapologia\\b.*|.*\\bpitiful\\b.*|.*\\bdingy\\b.*|.*\\bexcuse\\b.*|.*\\bdistressing\\b.*|.*\\bapology\\b.*|.*\\bregretful\\b.*|.*\\bmeritless\\b.*|.*\\bgrim\\b.*|.*\\bdark\\b.*|.*\\bbad\\b.*|.*\\blamentable\\b.*|.*\\bdeplorable\\b.*|.*\\bblue\\b.*|.*\\bexcuse me\\b.*|.*\\bdismal\\b.*|.*\\bsorry\\b.*|.*\\bdrear\\b.*|.*\\bapologies\\b.*|.*\\bgloomy\\b.*|.*\\bdreary\\b.*|.*\\bdrab\\b.*|.*\\bsad\\b.*|.*\\bi apologize\\b.*|.*\\bdisconsolate\\b.*|.*\\bmy bad\\b.*|.*\\bpardon me\\b.*\n",
      "----------\n",
      "help : .*\\bbackup\\b.*|.*\\bkeep\\b.*|.*\\bstand\\b.*|.*\\breinforcement\\b.*|.*\\bsustain\\b.*|.*\\bstomach\\b.*|.*\\bfunding\\b.*|.*\\babide\\b.*|.*\\bsupport\\b.*|.*\\bendorse\\b.*|.*\\bmusical accompaniment\\b.*|.*\\bhelp oneself\\b.*|.*\\bfinancial support\\b.*|.*\\bpatronise\\b.*|.*\\bdigest\\b.*|.*\\bsupporting\\b.*|.*\\bhold up\\b.*|.*\\bbear\\b.*|.*\\baid\\b.*|.*\\bpatronage\\b.*|.*\\bput up\\b.*|.*\\bstick out\\b.*|.*\\bsubstantiate\\b.*|.*\\blivelihood\\b.*|.*\\bback\\b.*|.*\\bdocumentation\\b.*|.*\\bbrook\\b.*|.*\\bplunk for\\b.*|.*\\bfend for\\b.*|.*\\bhold\\b.*|.*\\bkeep going\\b.*|.*\\bhelp\\b.*|.*\\bback up\\b.*|.*\\bplump for\\b.*|.*\\bsuffer\\b.*|.*\\battend to\\b.*|.*\\bneed assistance\\b.*|.*\\bbread and butter\\b.*|.*\\bavail\\b.*|.*\\bassist\\b.*|.*\\bfacilitate\\b.*|.*\\btolerate\\b.*|.*\\bconfirm\\b.*|.*\\bendure\\b.*|.*\\bfinancial backing\\b.*|.*\\bbear out\\b.*|.*\\bservice\\b.*|.*\\bdefend\\b.*|.*\\bliving\\b.*|.*\\bassistant\\b.*|.*\\bhelper\\b.*|.*\\bsupporter\\b.*|.*\\bpatronize\\b.*|.*\\bwait on\\b.*|.*\\breenforcement\\b.*|.*\\bsustenance\\b.*|.*\\bindorse\\b.*|.*\\battend\\b.*|.*\\baffirm\\b.*|.*\\bserve\\b.*|.*\\bhelp me\\b.*|.*\\bbacking\\b.*|.*\\bunderpin\\b.*|.*\\baccompaniment\\b.*|.*\\bassistance\\b.*|.*\\bcorroborate\\b.*|.*\\bsubscribe\\b.*\n",
      "----------\n",
      "affirmation : .*\\byes\\b.*|.*\\bunquestionably\\b.*|.*\\bdecidedly\\b.*|.*\\bof course\\b.*|.*\\bin spades\\b.*|.*\\bsure as shooting\\b.*|.*\\bby all odds\\b.*|.*\\byea\\b.*|.*\\bdefinitely\\b.*|.*\\bsurely\\b.*|.*\\bemphatically\\b.*|.*\\bsure\\b.*|.*\\bcertainly\\b.*|.*\\bcertain\\b.*|.*\\bsure enough\\b.*|.*\\bfor certain\\b.*|.*\\bfor sure\\b.*|.*\\bindisputable\\b.*|.*\\byeah\\b.*|.*\\byep\\b.*|.*\\btrusted\\b.*\n",
      "----------\n",
      "location : .*\\brank\\b.*|.*\\bcome up\\b.*|.*\\bobtain\\b.*|.*\\bbump\\b.*|.*\\bseat\\b.*|.*\\bobserve\\b.*|.*\\bturn up\\b.*|.*\\bposition\\b.*|.*\\breceive\\b.*|.*\\brule\\b.*|.*\\bretrieve\\b.*|.*\\bspeech\\b.*|.*\\bplace\\b.*|.*\\bname and address\\b.*|.*\\bget hold\\b.*|.*\\bidentify\\b.*|.*\\bsituated\\b.*|.*\\bdestination\\b.*|.*\\bbreakthrough\\b.*|.*\\brate\\b.*|.*\\bsite\\b.*|.*\\bcover\\b.*|.*\\bpost\\b.*|.*\\bpose\\b.*|.*\\bturn to\\b.*|.*\\btarget\\b.*|.*\\bcome in\\b.*|.*\\bcome up to\\b.*|.*\\boffice\\b.*|.*\\bdetect\\b.*|.*\\blieu\\b.*|.*\\bfeel\\b.*|.*\\bfind\\b.*|.*\\bchance\\b.*|.*\\bbillet\\b.*|.*\\bsettle\\b.*|.*\\bsituation\\b.*|.*\\blocalise\\b.*|.*\\bincur\\b.*|.*\\bpiazza\\b.*|.*\\brange\\b.*|.*\\btopographic point\\b.*|.*\\bsituate\\b.*|.*\\brecover\\b.*|.*\\bspeak\\b.*|.*\\bfind oneself\\b.*|.*\\bdeal\\b.*|.*\\breference\\b.*|.*\\bdetermine\\b.*|.*\\buncovering\\b.*|.*\\bfind out\\b.*|.*\\blocate\\b.*|.*\\bpoint\\b.*|.*\\blocalize\\b.*|.*\\bcome out\\b.*|.*\\bberth\\b.*|.*\\bput\\b.*|.*\\bspace\\b.*|.*\\bproperty\\b.*|.*\\bencounter\\b.*|.*\\bgrade\\b.*|.*\\blay\\b.*|.*\\bdiscovery\\b.*|.*\\bdirect\\b.*|.*\\border\\b.*|.*\\blocated\\b.*|.*\\bascertain\\b.*|.*\\bsee\\b.*|.*\\baccost\\b.*|.*\\baddress\\b.*|.*\\binvest\\b.*|.*\\bplaced\\b.*|.*\\bhappen\\b.*|.*\\bwhere\\b.*|.*\\bcomputer address\\b.*|.*\\bshoes\\b.*|.*\\bdiscover\\b.*|.*\\bblank space\\b.*|.*\\bstead\\b.*|.*\\bregain\\b.*|.*\\bline up\\b.*|.*\\bcall\\b.*|.*\\bget\\b.*|.*\\bsend\\b.*|.*\\bset\\b.*|.*\\bnotice\\b.*|.*\\bhandle\\b.*|.*\\bcommit\\b.*|.*\\bwitness\\b.*|.*\\bplaza\\b.*|.*\\bspot\\b.*|.*\\baim\\b.*|.*\\bplow\\b.*|.*\\bstation\\b.*|.*\\bhome\\b.*|.*\\btreat\\b.*\n",
      "----------\n"
     ]
    }
   ],
   "source": [
    "regex_dict = word_to_regex(extended_keywords_dict)\n",
    "\n",
    "for intent, keywords in regex_dict.items():\n",
    "    print(intent, ':', keywords)\n",
    "    print('----------')"
   ]
  },
  {
   "cell_type": "markdown",
   "id": "7d6d8e67",
   "metadata": {},
   "source": [
    "Question : What does the \\b and .* and | in a Regex expression mean and is its use essential here?\n",
    "\n",
    "- \\b are used to define word boundaries, then enabling to match complete words\n",
    "- .* matches 0 or more of any character, so that it allows for any surrounding text\n",
    "- | represents the logical or\n",
    "\n",
    "In our case, **\\b** is not needed since we can accept conjugation or plural form.\n",
    "**.*** at the start and end of each expression ensures the word can appear anywhere in the text and **|** is necessary to ensures my regex matches any one of the keywords from the list."
   ]
  },
  {
   "cell_type": "markdown",
   "id": "cc1c037e",
   "metadata": {},
   "source": [
    "Now let's try to be able to handle typos from the user, I will use the pyspellchecker library thanks to the documentation : https://pyspellchecker.readthedocs.io/en/latest/"
   ]
  },
  {
   "cell_type": "code",
   "execution_count": 26,
   "id": "32835e32",
   "metadata": {},
   "outputs": [
    {
     "name": "stdout",
     "output_type": "stream",
     "text": [
      "Requirement already satisfied: pyspellchecker in /Users/emma/anaconda3/lib/python3.10/site-packages (0.8.1)\n",
      "Note: you may need to restart the kernel to use updated packages.\n"
     ]
    }
   ],
   "source": [
    "pip install pyspellchecker"
   ]
  },
  {
   "cell_type": "code",
   "execution_count": 27,
   "id": "f4ba57de",
   "metadata": {},
   "outputs": [
    {
     "data": {
      "text/plain": [
       "['doing', 'good', 'hello', 'world']"
      ]
     },
     "execution_count": 27,
     "metadata": {},
     "output_type": "execute_result"
    }
   ],
   "source": [
    "from spellchecker import SpellChecker\n",
    "\n",
    "def correct_typo(user_words_list):\n",
    "\n",
    "    spell = SpellChecker()\n",
    "    \n",
    "    user_words_corrected = []\n",
    "\n",
    "    # find those words that may be misspelled\n",
    "    misspelled = spell.unknown(user_words_list)\n",
    "\n",
    "    if misspelled:  # corresponding to a not empty list\n",
    "        for word in misspelled:\n",
    "            user_words_corrected.append(spell.correction(word))\n",
    "    for word in user_words_list:\n",
    "        if word not in misspelled:  # so that I have all the words from the user, but not twice \n",
    "            user_words_corrected.append(spell.correction(word))\n",
    "                \n",
    "    return user_words_corrected\n",
    "    \n",
    "correct_typo(['helooo', 'world', 'doinn', 'goodz'])"
   ]
  },
  {
   "cell_type": "markdown",
   "id": "f6c60617",
   "metadata": {},
   "source": [
    "Now that it corrects well the typos, the user experience will be better. I will now implement this schema into code :"
   ]
  },
  {
   "cell_type": "code",
   "execution_count": 28,
   "id": "c2a07fca",
   "metadata": {},
   "outputs": [
    {
     "data": {
      "image/png": "[encoded data removed]",
      "text/plain": [
       "<IPython.core.display.Image object>"
      ]
     },
     "execution_count": 28,
     "metadata": {},
     "output_type": "execute_result"
    }
   ],
   "source": [
    "from IPython.display import Image\n",
    "\n",
    "Image(filename='input_response_schema.png')"
   ]
  },
  {
   "cell_type": "code",
   "execution_count": 29,
   "id": "1a35cebe",
   "metadata": {},
   "outputs": [
    {
     "name": "stdout",
     "output_type": "stream",
     "text": [
      "helooo world doinn goodz : greetings\n",
      "yeah : affirmation\n"
     ]
    }
   ],
   "source": [
    "def matchPattern(user_msg):\n",
    "    # in order to pass the message to pyspellchecker correct_typo, I need to parse it into a list of words\n",
    "    user_msg_list = user_msg.split()\n",
    "    user_msg_clean = correct_typo(user_msg_list)\n",
    "    #print(user_msg_clean)\n",
    "\n",
    "    \n",
    "    # si non -> intention de undefined\n",
    "    found_intent = 'undefined'\n",
    "\n",
    "    for word in user_msg_clean:  # pour tous les mots du message\n",
    "\n",
    "        # loop dans le pattern pour trouver si 1 keyword correspondant dans le dico -> et alors remplacer le undefined de défaut\n",
    "        for intent, regex_keywords in regex_dict.items():\n",
    "            # si oui -> renvoie la key de ce keyword\n",
    "            match = re.search(regex_keywords, word)\n",
    "            if match != None:\n",
    "                found_intent = intent\n",
    "                \n",
    "    return found_intent\n",
    "    \n",
    "    \n",
    "user_intent = matchPattern('helooo world doinn goodz')\n",
    "print(\"helooo world doinn goodz :\", user_intent)\n",
    "\n",
    "user_intent = matchPattern('yeah')\n",
    "print(\"yeah :\", user_intent)"
   ]
  },
  {
   "cell_type": "markdown",
   "id": "06e4aefd",
   "metadata": {},
   "source": [
    "<span style=\"color:green; font-weight:bold;\">4 - Main Function</span>"
   ]
  },
  {
   "cell_type": "code",
   "execution_count": 30,
   "id": "b2659bc6",
   "metadata": {},
   "outputs": [],
   "source": [
    "import random\n",
    "\n",
    "def intent_search(user_msg):\n",
    "        \n",
    "    user_intention = matchPattern(user_msg)\n",
    "    # print(\"-> found intention :\", user_intention)\n",
    "    \n",
    "    if user_intention != 'undefined':\n",
    "        response = chatbot_response(user_intention)\n",
    "        print(f\"Chatbot: {response}\")\n",
    "    return user_intention\n",
    "\n",
    "\n",
    "def chatbot_response(user_intention):  # define bot looping responses\n",
    "            return random.choice(responses[user_intention])  # return a random response for the matched intent"
   ]
  },
  {
   "cell_type": "code",
   "execution_count": 31,
   "id": "27593b6d",
   "metadata": {},
   "outputs": [],
   "source": [
    "def main():\n",
    "    print(\"Hi! I am Bot. To end conversation say 'bye' or 'leave'.\")\n",
    "    \n",
    "    while True:\n",
    "        # => switching loop that keeps in place the flow of the conversation\n",
    "        \n",
    "        # 1) Match your chatbot response to the user input and ask for its next message.\n",
    "        user_msg = input(\"User : \")\n",
    "        user_intention = intent_search(user_msg)\n",
    "        \n",
    "        # 2) Define a default response to the undefined intention from the user.\n",
    "        if user_intention == 'undefined':  # undefined a remplacer comme categorie a la place de weather\n",
    "            print(\"Chatbot: I did not understand. Could you tell me something else ?\")\n",
    "            # -> take a new message from user : easy, it loop again in the while\n",
    "            \n",
    "        # 3) For the exit case, reply back to the user and exit the console.\n",
    "        if user_intention == 'ending':\n",
    "            response = chatbot_response(user_intention)\n",
    "            break\n",
    "        "
   ]
  },
  {
   "cell_type": "code",
   "execution_count": 32,
   "id": "50b19e47",
   "metadata": {},
   "outputs": [
    {
     "name": "stdout",
     "output_type": "stream",
     "text": [
      "Hi! I am Bot. To end conversation say 'bye' or 'leave'.\n",
      "User : hey\n",
      "Chatbot: Hey there, how's it going?\n",
      "User : What time it is on your side ?\n",
      "Chatbot: The time is 8:00 AM, bright and early!\n",
      "User : thanks\n",
      "Chatbot: Anytime! Happy to help!\n",
      "User : badminton tennis swimming\n",
      "Chatbot: I did not understand. Could you tell me something else ?\n",
      "User : sorry\n",
      "Chatbot: My bad! Please forgive me.\n",
      "User : bye\n",
      "Chatbot: Catch you later, take care!\n"
     ]
    }
   ],
   "source": [
    "main()"
   ]
  },
  {
   "cell_type": "markdown",
   "id": "21ef46d6",
   "metadata": {},
   "source": [
    "<span style=\"color:green; font-weight:bold;\">5 - Weather questions</span>\n",
    "\n",
    "Step 1 : Add some keywords to my dictionnary, and extend them with wordnet library"
   ]
  },
  {
   "cell_type": "code",
   "execution_count": 33,
   "id": "66639755",
   "metadata": {},
   "outputs": [],
   "source": [
    "weather_keywords = {\n",
    "    'weather question': ['weather', 'rain', 'temperature', 'sunrise', 'cold']\n",
    "}"
   ]
  },
  {
   "cell_type": "code",
   "execution_count": 34,
   "id": "3f3a27c9",
   "metadata": {},
   "outputs": [
    {
     "name": "stdout",
     "output_type": "stream",
     "text": [
      "greetings  :  ['how do you do', 'hi', 'hawaii', 'aloha_state', 'hullo', 'hey', 'hello', 'howdy']\n",
      "----------\n",
      "time  :  ['bit', 'second_base', 'time_of_day', 'hr', 'second', 'clip', 'secondment', 'fourth_dimension', 'hour', 'min', '2d', 'endorse', 'what time', 'mo', 'time', 'indorsement', 'minute', 'hours', 'prison_term', 'minute_of_arc', 'second_gear', 'arcsecond', '60_minutes', 'narrow', 'back', 'moment', 'sec', 'infinitesimal', 'meter', 'endorsement', 'secondly', 'clock_time', 'sentence', 'indorse', 'clock', 's', 'metre', 'irregular', 'arcminute', '2nd', 'instant']\n",
      "----------\n",
      "ending  :  ['catch you later', 'goodbye', 'word_of_farewell', 'leave', 'take care', 'au_revoir', 'good_day', 'parting', 'bye', 'farewell', 'arrivederci', 'see you', 'goodby', 'sayonara', 'pass', 'adios', 'auf_wiedersehen', 'cheerio', 'so_long', 'adieu']\n",
      "----------\n",
      "thanks  :  ['thanks a lot', 'thank', 'much appreciated', 'many thanks', 'thanks', 'thank you', 'give_thanks']\n",
      "----------\n",
      "apology  :  ['apologia', 'pitiful', 'dingy', 'excuse', 'distressing', 'apology', 'regretful', 'meritless', 'grim', 'dark', 'bad', 'lamentable', 'deplorable', 'blue', 'excuse me', 'dismal', 'sorry', 'drear', 'apologies', 'gloomy', 'dreary', 'drab', 'sad', 'i apologize', 'disconsolate', 'my bad', 'pardon me']\n",
      "----------\n",
      "help  :  ['backup', 'keep', 'stand', 'reinforcement', 'sustain', 'stomach', 'funding', 'abide', 'support', 'endorse', 'musical_accompaniment', 'help_oneself', 'financial_support', 'patronise', 'digest', 'supporting', 'hold_up', 'bear', 'aid', 'patronage', 'put_up', 'stick_out', 'substantiate', 'livelihood', 'back', 'documentation', 'brook', 'plunk_for', 'fend_for', 'hold', 'keep_going', 'help', 'back_up', 'plump_for', 'suffer', 'attend_to', 'need assistance', 'bread_and_butter', 'avail', 'assist', 'facilitate', 'tolerate', 'confirm', 'endure', 'financial_backing', 'bear_out', 'service', 'defend', 'living', 'assistant', 'helper', 'supporter', 'patronize', 'wait_on', 'reenforcement', 'sustenance', 'indorse', 'attend', 'affirm', 'serve', 'help me', 'backing', 'underpin', 'accompaniment', 'assistance', 'corroborate', 'subscribe']\n",
      "----------\n",
      "affirmation  :  ['yes', 'unquestionably', 'decidedly', 'of course', 'in_spades', 'sure_as_shooting', 'by_all_odds', 'yea', 'definitely', 'surely', 'emphatically', 'sure', 'certainly', 'certain', 'sure_enough', 'for_certain', 'for_sure', 'indisputable', 'yeah', 'yep', 'trusted']\n",
      "----------\n",
      "location  :  ['rank', 'come_up', 'obtain', 'bump', 'seat', 'observe', 'turn_up', 'position', 'receive', 'rule', 'retrieve', 'speech', 'place', 'name_and_address', 'get_hold', 'identify', 'situated', 'destination', 'breakthrough', 'rate', 'site', 'cover', 'post', 'pose', 'turn_to', 'target', 'come_in', 'come_up_to', 'office', 'detect', 'lieu', 'feel', 'find', 'chance', 'billet', 'settle', 'situation', 'localise', 'incur', 'piazza', 'range', 'topographic_point', 'situate', 'recover', 'speak', 'find_oneself', 'deal', 'reference', 'determine', 'uncovering', 'find_out', 'locate', 'point', 'localize', 'come_out', 'berth', 'put', 'space', 'property', 'encounter', 'grade', 'lay', 'discovery', 'direct', 'order', 'located', 'ascertain', 'see', 'accost', 'address', 'invest', 'placed', 'happen', 'where', 'computer_address', 'shoes', 'discover', 'blank_space', 'stead', 'regain', 'line_up', 'call', 'get', 'send', 'set', 'notice', 'handle', 'commit', 'witness', 'plaza', 'spot', 'aim', 'plow', 'station', 'home', 'treat']\n",
      "----------\n",
      "weather question  :  ['weather_condition', 'upwind', 'rain_down', 'insensate', 'atmospheric_condition', 'rainfall', 'rainwater', 'brave_out', 'dawning', 'first_light', 'cockcrow', 'stale', 'pelting', 'coldness', 'temperature', 'dayspring', 'rain', 'endure', 'frigidness', 'dusty', 'daybreak', 'frigidity', 'weather', 'inhuman', 'low_temperature', 'break_of_day', 'dawn', 'sunup', 'frigid', 'break_of_the_day', 'brave', 'common_cold', 'cold', 'aurora', 'conditions', 'morning', 'sunrise']\n",
      "----------\n"
     ]
    }
   ],
   "source": [
    "# now extend with my WordNet function\n",
    "\n",
    "extended_weather_dict = extend_keywords(weather_keywords)\n",
    "extended_keywords_dict.update(extended_weather_dict)\n",
    "\n",
    "for intent, keywords in extended_keywords_dict.items():\n",
    "    print(intent, ' : ', keywords)\n",
    "    print('----------')"
   ]
  },
  {
   "cell_type": "markdown",
   "id": "b25e0fe2",
   "metadata": {},
   "source": [
    "I see some strange assimilation like 'inhuman' to describe weather question, but hopefully my chatbot will be fine instead of this confusion of WordNet.\n",
    "\n",
    "Here is an example of what I want to obtain : pattern : \" What \\\\s is \\\\s the \\\\s weather \\\\s like \\\\s in \\\\s\\\\b [a-z ]+\\\\ b$\""
   ]
  },
  {
   "cell_type": "code",
   "execution_count": 35,
   "id": "2ebfdeb1",
   "metadata": {},
   "outputs": [],
   "source": [
    "weather_questions_dict = {\n",
    "    'get weather': 'What is the weather like in',\n",
    "    'get temperature': 'Which temperature in',\n",
    "    'get night hour': 'What is the sunrise hour in'\n",
    "}"
   ]
  },
  {
   "cell_type": "markdown",
   "id": "e6d31085",
   "metadata": {},
   "source": [
    "/!\\ I can define only 1 question per category because if I define multiple, then as a regex it will be multiplease groups called 'city' that are searched. It results in this error: redefinition of group name 'city' as group 3; was group 1 at position 95"
   ]
  },
  {
   "cell_type": "code",
   "execution_count": 37,
   "id": "37d29592",
   "metadata": {},
   "outputs": [],
   "source": [
    "def weather_to_regex(extended_weather_dict):\n",
    "    regex_dict = {}\n",
    "    \n",
    "    for intent, sentence in extended_weather_dict.items():\n",
    "            \n",
    "        sentence_reg = sentence + ' (?P<city>[a-z]+) (?P<time>tomorrow|today)'\n",
    "        \n",
    "        regex_dict.update({intent : sentence_reg})\n",
    "        \n",
    "    return regex_dict"
   ]
  },
  {
   "cell_type": "code",
   "execution_count": 38,
   "id": "3670bc0c",
   "metadata": {},
   "outputs": [
    {
     "name": "stdout",
     "output_type": "stream",
     "text": [
      "greetings  :  .*\\bhow do you do\\b.*|.*\\bhi\\b.*|.*\\bhawaii\\b.*|.*\\baloha state\\b.*|.*\\bhullo\\b.*|.*\\bhey\\b.*|.*\\bhello\\b.*|.*\\bhowdy\\b.*\n",
      "----------\n",
      "time  :  .*\\bbit\\b.*|.*\\bsecond base\\b.*|.*\\btime of day\\b.*|.*\\bhr\\b.*|.*\\bsecond\\b.*|.*\\bclip\\b.*|.*\\bsecondment\\b.*|.*\\bfourth dimension\\b.*|.*\\bhour\\b.*|.*\\bmin\\b.*|.*\\b2d\\b.*|.*\\bendorse\\b.*|.*\\bwhat time\\b.*|.*\\bmo\\b.*|.*\\btime\\b.*|.*\\bindorsement\\b.*|.*\\bminute\\b.*|.*\\bhours\\b.*|.*\\bprison term\\b.*|.*\\bminute of arc\\b.*|.*\\bsecond gear\\b.*|.*\\barcsecond\\b.*|.*\\b60 minutes\\b.*|.*\\bnarrow\\b.*|.*\\bback\\b.*|.*\\bmoment\\b.*|.*\\bsec\\b.*|.*\\binfinitesimal\\b.*|.*\\bmeter\\b.*|.*\\bendorsement\\b.*|.*\\bsecondly\\b.*|.*\\bclock time\\b.*|.*\\bsentence\\b.*|.*\\bindorse\\b.*|.*\\bclock\\b.*|.*\\bs\\b.*|.*\\bmetre\\b.*|.*\\birregular\\b.*|.*\\barcminute\\b.*|.*\\b2nd\\b.*|.*\\binstant\\b.*\n",
      "----------\n",
      "ending  :  .*\\bcatch you later\\b.*|.*\\bgoodbye\\b.*|.*\\bword of farewell\\b.*|.*\\bleave\\b.*|.*\\btake care\\b.*|.*\\bau revoir\\b.*|.*\\bgood day\\b.*|.*\\bparting\\b.*|.*\\bbye\\b.*|.*\\bfarewell\\b.*|.*\\barrivederci\\b.*|.*\\bsee you\\b.*|.*\\bgoodby\\b.*|.*\\bsayonara\\b.*|.*\\bpass\\b.*|.*\\badios\\b.*|.*\\bauf wiedersehen\\b.*|.*\\bcheerio\\b.*|.*\\bso long\\b.*|.*\\badieu\\b.*\n",
      "----------\n",
      "thanks  :  .*\\bthanks a lot\\b.*|.*\\bthank\\b.*|.*\\bmuch appreciated\\b.*|.*\\bmany thanks\\b.*|.*\\bthanks\\b.*|.*\\bthank you\\b.*|.*\\bgive thanks\\b.*\n",
      "----------\n",
      "apology  :  .*\\bapologia\\b.*|.*\\bpitiful\\b.*|.*\\bdingy\\b.*|.*\\bexcuse\\b.*|.*\\bdistressing\\b.*|.*\\bapology\\b.*|.*\\bregretful\\b.*|.*\\bmeritless\\b.*|.*\\bgrim\\b.*|.*\\bdark\\b.*|.*\\bbad\\b.*|.*\\blamentable\\b.*|.*\\bdeplorable\\b.*|.*\\bblue\\b.*|.*\\bexcuse me\\b.*|.*\\bdismal\\b.*|.*\\bsorry\\b.*|.*\\bdrear\\b.*|.*\\bapologies\\b.*|.*\\bgloomy\\b.*|.*\\bdreary\\b.*|.*\\bdrab\\b.*|.*\\bsad\\b.*|.*\\bi apologize\\b.*|.*\\bdisconsolate\\b.*|.*\\bmy bad\\b.*|.*\\bpardon me\\b.*\n",
      "----------\n",
      "help  :  .*\\bbackup\\b.*|.*\\bkeep\\b.*|.*\\bstand\\b.*|.*\\breinforcement\\b.*|.*\\bsustain\\b.*|.*\\bstomach\\b.*|.*\\bfunding\\b.*|.*\\babide\\b.*|.*\\bsupport\\b.*|.*\\bendorse\\b.*|.*\\bmusical accompaniment\\b.*|.*\\bhelp oneself\\b.*|.*\\bfinancial support\\b.*|.*\\bpatronise\\b.*|.*\\bdigest\\b.*|.*\\bsupporting\\b.*|.*\\bhold up\\b.*|.*\\bbear\\b.*|.*\\baid\\b.*|.*\\bpatronage\\b.*|.*\\bput up\\b.*|.*\\bstick out\\b.*|.*\\bsubstantiate\\b.*|.*\\blivelihood\\b.*|.*\\bback\\b.*|.*\\bdocumentation\\b.*|.*\\bbrook\\b.*|.*\\bplunk for\\b.*|.*\\bfend for\\b.*|.*\\bhold\\b.*|.*\\bkeep going\\b.*|.*\\bhelp\\b.*|.*\\bback up\\b.*|.*\\bplump for\\b.*|.*\\bsuffer\\b.*|.*\\battend to\\b.*|.*\\bneed assistance\\b.*|.*\\bbread and butter\\b.*|.*\\bavail\\b.*|.*\\bassist\\b.*|.*\\bfacilitate\\b.*|.*\\btolerate\\b.*|.*\\bconfirm\\b.*|.*\\bendure\\b.*|.*\\bfinancial backing\\b.*|.*\\bbear out\\b.*|.*\\bservice\\b.*|.*\\bdefend\\b.*|.*\\bliving\\b.*|.*\\bassistant\\b.*|.*\\bhelper\\b.*|.*\\bsupporter\\b.*|.*\\bpatronize\\b.*|.*\\bwait on\\b.*|.*\\breenforcement\\b.*|.*\\bsustenance\\b.*|.*\\bindorse\\b.*|.*\\battend\\b.*|.*\\baffirm\\b.*|.*\\bserve\\b.*|.*\\bhelp me\\b.*|.*\\bbacking\\b.*|.*\\bunderpin\\b.*|.*\\baccompaniment\\b.*|.*\\bassistance\\b.*|.*\\bcorroborate\\b.*|.*\\bsubscribe\\b.*\n",
      "----------\n",
      "affirmation  :  .*\\byes\\b.*|.*\\bunquestionably\\b.*|.*\\bdecidedly\\b.*|.*\\bof course\\b.*|.*\\bin spades\\b.*|.*\\bsure as shooting\\b.*|.*\\bby all odds\\b.*|.*\\byea\\b.*|.*\\bdefinitely\\b.*|.*\\bsurely\\b.*|.*\\bemphatically\\b.*|.*\\bsure\\b.*|.*\\bcertainly\\b.*|.*\\bcertain\\b.*|.*\\bsure enough\\b.*|.*\\bfor certain\\b.*|.*\\bfor sure\\b.*|.*\\bindisputable\\b.*|.*\\byeah\\b.*|.*\\byep\\b.*|.*\\btrusted\\b.*\n",
      "----------\n",
      "location  :  .*\\brank\\b.*|.*\\bcome up\\b.*|.*\\bobtain\\b.*|.*\\bbump\\b.*|.*\\bseat\\b.*|.*\\bobserve\\b.*|.*\\bturn up\\b.*|.*\\bposition\\b.*|.*\\breceive\\b.*|.*\\brule\\b.*|.*\\bretrieve\\b.*|.*\\bspeech\\b.*|.*\\bplace\\b.*|.*\\bname and address\\b.*|.*\\bget hold\\b.*|.*\\bidentify\\b.*|.*\\bsituated\\b.*|.*\\bdestination\\b.*|.*\\bbreakthrough\\b.*|.*\\brate\\b.*|.*\\bsite\\b.*|.*\\bcover\\b.*|.*\\bpost\\b.*|.*\\bpose\\b.*|.*\\bturn to\\b.*|.*\\btarget\\b.*|.*\\bcome in\\b.*|.*\\bcome up to\\b.*|.*\\boffice\\b.*|.*\\bdetect\\b.*|.*\\blieu\\b.*|.*\\bfeel\\b.*|.*\\bfind\\b.*|.*\\bchance\\b.*|.*\\bbillet\\b.*|.*\\bsettle\\b.*|.*\\bsituation\\b.*|.*\\blocalise\\b.*|.*\\bincur\\b.*|.*\\bpiazza\\b.*|.*\\brange\\b.*|.*\\btopographic point\\b.*|.*\\bsituate\\b.*|.*\\brecover\\b.*|.*\\bspeak\\b.*|.*\\bfind oneself\\b.*|.*\\bdeal\\b.*|.*\\breference\\b.*|.*\\bdetermine\\b.*|.*\\buncovering\\b.*|.*\\bfind out\\b.*|.*\\blocate\\b.*|.*\\bpoint\\b.*|.*\\blocalize\\b.*|.*\\bcome out\\b.*|.*\\bberth\\b.*|.*\\bput\\b.*|.*\\bspace\\b.*|.*\\bproperty\\b.*|.*\\bencounter\\b.*|.*\\bgrade\\b.*|.*\\blay\\b.*|.*\\bdiscovery\\b.*|.*\\bdirect\\b.*|.*\\border\\b.*|.*\\blocated\\b.*|.*\\bascertain\\b.*|.*\\bsee\\b.*|.*\\baccost\\b.*|.*\\baddress\\b.*|.*\\binvest\\b.*|.*\\bplaced\\b.*|.*\\bhappen\\b.*|.*\\bwhere\\b.*|.*\\bcomputer address\\b.*|.*\\bshoes\\b.*|.*\\bdiscover\\b.*|.*\\bblank space\\b.*|.*\\bstead\\b.*|.*\\bregain\\b.*|.*\\bline up\\b.*|.*\\bcall\\b.*|.*\\bget\\b.*|.*\\bsend\\b.*|.*\\bset\\b.*|.*\\bnotice\\b.*|.*\\bhandle\\b.*|.*\\bcommit\\b.*|.*\\bwitness\\b.*|.*\\bplaza\\b.*|.*\\bspot\\b.*|.*\\baim\\b.*|.*\\bplow\\b.*|.*\\bstation\\b.*|.*\\bhome\\b.*|.*\\btreat\\b.*\n",
      "----------\n",
      "weather question  :  .*\\bweather condition\\b.*|.*\\bupwind\\b.*|.*\\brain down\\b.*|.*\\binsensate\\b.*|.*\\batmospheric condition\\b.*|.*\\brainfall\\b.*|.*\\brainwater\\b.*|.*\\bbrave out\\b.*|.*\\bdawning\\b.*|.*\\bfirst light\\b.*|.*\\bcockcrow\\b.*|.*\\bstale\\b.*|.*\\bpelting\\b.*|.*\\bcoldness\\b.*|.*\\btemperature\\b.*|.*\\bdayspring\\b.*|.*\\brain\\b.*|.*\\bendure\\b.*|.*\\bfrigidness\\b.*|.*\\bdusty\\b.*|.*\\bdaybreak\\b.*|.*\\bfrigidity\\b.*|.*\\bweather\\b.*|.*\\binhuman\\b.*|.*\\blow temperature\\b.*|.*\\bbreak of day\\b.*|.*\\bdawn\\b.*|.*\\bsunup\\b.*|.*\\bfrigid\\b.*|.*\\bbreak of the day\\b.*|.*\\bbrave\\b.*|.*\\bcommon cold\\b.*|.*\\bcold\\b.*|.*\\baurora\\b.*|.*\\bconditions\\b.*|.*\\bmorning\\b.*|.*\\bsunrise\\b.*\n",
      "----------\n",
      "My dictionnary of questions into regex :\n",
      " {'get weather': 'What is the weather like in (?P<city>[a-z]+) (?P<time>tomorrow|today)', 'get temperature': 'Which temperature in (?P<city>[a-z]+) (?P<time>tomorrow|today)', 'get night hour': 'What is the sunrise hour in (?P<city>[a-z]+) (?P<time>tomorrow|today)'}\n"
     ]
    }
   ],
   "source": [
    "weather_regex_dict = word_to_regex(extended_weather_dict)\n",
    "regex_dict.update(weather_regex_dict)  # I update my dico with this new regex for weather\n",
    "\n",
    "for intent, keywords in regex_dict.items():\n",
    "    print(intent, ' : ', keywords)\n",
    "    print('----------')\n",
    "\n",
    "print(\"My dictionnary of questions into regex :\\n\", weather_to_regex(weather_questions_dict))"
   ]
  },
  {
   "cell_type": "markdown",
   "id": "d1622824",
   "metadata": {},
   "source": [
    "<span style=\"color:green; font-weight:bold;\">6 - Including entities</span>\n",
    "\n",
    "Here I want to rewrite the regex pattern of the weather to capture groups city and time"
   ]
  },
  {
   "cell_type": "code",
   "execution_count": 39,
   "id": "d05d1a11",
   "metadata": {},
   "outputs": [],
   "source": [
    "def regex_capture_groups(questions_dict):\n",
    "    regex_dict = {}\n",
    "    sentence_reg = ''\n",
    "    \n",
    "    for intent, sentence in questions_dict.items():\n",
    "        \n",
    "        sentence_reg = sentence + ' (?P<city>[a-zA-Z\\s]+) (?P<time>tomorrow|today).*'\n",
    "        # \\s -> enable space between alphanumeric => catch cities with 2 words\n",
    "\n",
    "        regex_dict.update({intent : sentence_reg})\n",
    "        \n",
    "    return regex_dict"
   ]
  },
  {
   "cell_type": "code",
   "execution_count": 40,
   "id": "6e6848d8",
   "metadata": {},
   "outputs": [
    {
     "name": "stdout",
     "output_type": "stream",
     "text": [
      "get weather  :  What is the weather like in (?P<city>[a-zA-Z\\s]+) (?P<time>tomorrow|today).*\n",
      "----------\n",
      "get temperature  :  Which temperature in (?P<city>[a-zA-Z\\s]+) (?P<time>tomorrow|today).*\n",
      "----------\n",
      "get night hour  :  What is the sunrise hour in (?P<city>[a-zA-Z\\s]+) (?P<time>tomorrow|today).*\n",
      "----------\n"
     ]
    }
   ],
   "source": [
    "weather_questions_regex = regex_capture_groups(weather_questions_dict)\n",
    "\n",
    "for intent, questions in weather_questions_regex.items():\n",
    "    print(intent, ' : ', questions)\n",
    "    print('----------')"
   ]
  },
  {
   "cell_type": "markdown",
   "id": "243f55ec",
   "metadata": {},
   "source": [
    "Get the entities from the input of the user to then enable the chatbot to get these 2 infos."
   ]
  },
  {
   "cell_type": "code",
   "execution_count": 41,
   "id": "90fb18fc",
   "metadata": {},
   "outputs": [
    {
     "name": "stdout",
     "output_type": "stream",
     "text": [
      "What is the weather like in Paris today ('Paris', 'today')\n",
      "Which temperature in Abou Dabi today ('Abou Dabi', 'today')\n"
     ]
    }
   ],
   "source": [
    "def matchPattern_weather(user_msg):\n",
    "\n",
    "    # si non -> city et time not known\n",
    "    city = 'undefined'\n",
    "    time = 'undefined'\n",
    "        \n",
    "        \n",
    "    # loop dans le pattern pour trouver si 1 entity correspondant dans le dico -> et alors remplacer le undefined de défaut\n",
    "    for intent, regex_get_entity in weather_questions_regex.items():\n",
    "        #print(\"-> \", regex_get_entity)\n",
    "\n",
    "        match = re.search(regex_get_entity, user_msg)\n",
    "        if match != None:\n",
    "            city = match.groupdict()['city']  # equivalent to m.group(1) here\n",
    "            time = match.groupdict()['time']\n",
    "\n",
    "    return city, time\n",
    "    \n",
    "\n",
    "test1 = 'What is the weather like in Paris today'\n",
    "user_entities = matchPattern_weather(test1)\n",
    "print(test1, user_entities)\n",
    "\n",
    "test2 = 'Which temperature in Abou Dabi today'\n",
    "user_entities = matchPattern_weather(test2)\n",
    "print(test2, user_entities)"
   ]
  },
  {
   "cell_type": "code",
   "execution_count": 42,
   "id": "ac28b647",
   "metadata": {},
   "outputs": [],
   "source": [
    "def createEntities(user_msg):  # aim to extract entities from the user message\n",
    "\n",
    "    entities_dict = {}\n",
    "    \n",
    "    city, time = matchPattern_weather(user_msg)\n",
    "    \n",
    "    entities_dict = {'city': city, 'time': time}\n",
    "    \n",
    "    return entities_dict"
   ]
  },
  {
   "cell_type": "code",
   "execution_count": 43,
   "id": "2077fe52",
   "metadata": {},
   "outputs": [
    {
     "name": "stdout",
     "output_type": "stream",
     "text": [
      "{'city': 'Dublin', 'time': 'today'}\n",
      "{'city': 'Abou Dabi', 'time': 'today'}\n",
      "{'city': 'Paris', 'time': 'tomorrow'}\n"
     ]
    }
   ],
   "source": [
    "print(createEntities('What is the weather like in Dublin today'))\n",
    "print(createEntities('Which temperature in Abou Dabi today'))\n",
    "print(createEntities('What is the sunrise hour in Paris tomorrow'))"
   ]
  },
  {
   "cell_type": "markdown",
   "id": "e7ef525d",
   "metadata": {},
   "source": [
    "Let's test my chatbot right now before going further, to be sure it works well"
   ]
  },
  {
   "cell_type": "code",
   "execution_count": 44,
   "id": "e9a943cd",
   "metadata": {},
   "outputs": [],
   "source": [
    "def new_intent_search(user_msg):\n",
    "        \n",
    "    user_intention = matchPattern(user_msg)\n",
    "    # print(\"-> found intention :\", user_intention)\n",
    "    \n",
    "    if user_intention != 'undefined' and user_intention != 'weather question':\n",
    "        response = chatbot_response(user_intention)\n",
    "        print(f\"Chatbot: {response}\")\n",
    "        \n",
    "    return user_intention"
   ]
  },
  {
   "cell_type": "code",
   "execution_count": 47,
   "id": "a6592232",
   "metadata": {},
   "outputs": [],
   "source": [
    "def main_weather():\n",
    "    print(\"Hi! I am Bot. To end conversation say 'bye' or 'leave'.\")\n",
    "    \n",
    "    while True:\n",
    "        # => switching loop that keeps in place the flow of the conversation\n",
    "        \n",
    "        # 1) Match your chatbot response to the user input and ask for its next message.\n",
    "        user_msg = input(\"User : \")\n",
    "        user_intention = new_intent_search(user_msg)\n",
    "        \n",
    "        # 3) For the exit case, reply back to the user and exit the console.\n",
    "        if user_intention == 'ending':\n",
    "            response = chatbot_response(user_intention)\n",
    "            break\n",
    "        \n",
    "        # 2) Define a default response to the undefined intention from the user.\n",
    "        if user_intention == 'undefined':\n",
    "            print(\"Chatbot: I did not understand. Could you tell me something else ?\")\n",
    "            # -> take a new message from user : easy, it loop again in the while     \n",
    "            \n",
    "        # 4) New : Call weather functions if intention detected is a question about weather\n",
    "        if user_intention == 'weather question':\n",
    "            city_time = createEntities(user_msg)\n",
    "            print(\"-> found entities :\", city_time)\n",
    "            \n",
    "            # chatbot must ask the user about the city and time until success\n",
    "            if city_time['city'] == 'undefined' or city_time['time'] == 'undefined':\n",
    "                print(\"Chatbot: Please type your weather question again, with a town and a time\")\n",
    "                matchPattern_weather(user_msg)"
   ]
  },
  {
   "cell_type": "code",
   "execution_count": 48,
   "id": "ba056f17",
   "metadata": {},
   "outputs": [
    {
     "name": "stdout",
     "output_type": "stream",
     "text": [
      "Hi! I am Bot. To end conversation say 'bye' or 'leave'.\n",
      "User : Which temperature in ?\n",
      "-> found entities : {'city': 'undefined', 'time': 'undefined'}\n",
      "Chatbot: Please type your weather question again, with a town and a time\n",
      "User : What is the weather like in Paris ?\n",
      "-> found entities : {'city': 'undefined', 'time': 'undefined'}\n",
      "Chatbot: Please type your weather question again, with a town and a time\n",
      "User : What is the weather like in Los Angeles today ?\n",
      "-> found entities : {'city': 'Los Angeles', 'time': 'today'}\n",
      "User : leave\n",
      "Chatbot: Bye, and feel free to come back anytime!\n"
     ]
    }
   ],
   "source": [
    "main_weather()"
   ]
  },
  {
   "cell_type": "markdown",
   "id": "45b87fc0",
   "metadata": {},
   "source": [
    "<span style=\"color:green; font-weight:bold;\">7 - Weather API</span>"
   ]
  },
  {
   "cell_type": "code",
   "execution_count": 49,
   "id": "b1338501",
   "metadata": {},
   "outputs": [
    {
     "name": "stdout",
     "output_type": "stream",
     "text": [
      "Requirement already satisfied: requests in /Users/emma/anaconda3/lib/python3.10/site-packages (2.28.1)\n",
      "Requirement already satisfied: certifi>=2017.4.17 in /Users/emma/anaconda3/lib/python3.10/site-packages (from requests) (2024.7.4)\n",
      "Requirement already satisfied: charset-normalizer<3,>=2 in /Users/emma/anaconda3/lib/python3.10/site-packages (from requests) (2.0.4)\n",
      "Requirement already satisfied: urllib3<1.27,>=1.21.1 in /Users/emma/anaconda3/lib/python3.10/site-packages (from requests) (1.26.14)\n",
      "Requirement already satisfied: idna<4,>=2.5 in /Users/emma/anaconda3/lib/python3.10/site-packages (from requests) (3.4)\n",
      "Note: you may need to restart the kernel to use updated packages.\n"
     ]
    }
   ],
   "source": [
    "pip install requests"
   ]
  },
  {
   "cell_type": "code",
   "execution_count": 50,
   "id": "96143703",
   "metadata": {},
   "outputs": [],
   "source": [
    "import requests\n",
    "from datetime import datetime\n",
    "\n",
    "API_KEY = 'YMAQuHpAQpDjBSOzvmtZ7Y1VBU9nFCjM'\n",
    "\n",
    "def getWeather(location, date):\n",
    "\n",
    "    url = \"https://api.tomorrow.io/v4/weather/forecast\"\n",
    "    params = {\n",
    "        \"location\": location,\n",
    "        \"apikey\": API_KEY,\n",
    "        \"timesteps\": \"1d\",\n",
    "        \"units\": \"metric\"\n",
    "    }\n",
    "    \n",
    "    try:\n",
    "        response = requests.get(url, params=params)\n",
    "        if response.status_code == 200:  #  OK\n",
    "            data = response.json()\n",
    "            \n",
    "            forecast = data.get('timelines', {}).get('daily', [{}])[0]\n",
    "            values = forecast.get('values', {})\n",
    "            temp_celsius = values.get('temperatureAvg', \"No temperature data\")\n",
    "            humidity = values.get('humidityAvg', \"No humidity data\")\n",
    "            \n",
    "            return {\n",
    "                \"Location\": location,\n",
    "                \"Date\": date,\n",
    "                \"Temperature (°C)\": temp_celsius,\n",
    "                \"Humidity (%)\": humidity\n",
    "            }\n",
    "        \n",
    "        elif response.status_code == 400:  # Bad request\n",
    "            return {\"error\": \"Bad Request. the request was invalid.\"}\n",
    "        \n",
    "        elif response.status_code == 404:  # Not found\n",
    "            return {\"error\": \"Location not found. Please check your town's name or location coordinates or.\"}\n",
    "        \n",
    "        else:\n",
    "            return {\"error\": f\"An unexpected error occurred. Status code: {response.status_code}\"}\n",
    "    \n",
    "    except requests.exceptions.RequestException as e:\n",
    "        return {\"error\": str(e)}"
   ]
  },
  {
   "cell_type": "code",
   "execution_count": 51,
   "id": "737f29f4",
   "metadata": {},
   "outputs": [],
   "source": [
    "def process_weather_response(weather_info_json):\n",
    "    \n",
    "    #response = f\"{weather_info_json['Date']} in {weather_info_json['Location']} you have {weather_info_json['Weather']} with {weather_info_json['Temperature (°C)']} °C and {weather_info_json['Humidity (%)']} % humidity\"\n",
    "    response = f\"{weather_info_json['Date']} in {weather_info_json['Location']} you have {weather_info_json['Temperature (°C)']} °C and {weather_info_json['Humidity (%)']} % humidity\"\n",
    "\n",
    "    return response"
   ]
  },
  {
   "cell_type": "markdown",
   "id": "7ce98727",
   "metadata": {},
   "source": [
    "Finally, let's test this weather chatbot indicating the temperature in a town :"
   ]
  },
  {
   "cell_type": "code",
   "execution_count": 53,
   "id": "b17ba575",
   "metadata": {},
   "outputs": [],
   "source": [
    "def main_API():\n",
    "    print(\"Hi! I am Bot. To end conversation say 'bye' or 'leave'.\")\n",
    "    \n",
    "    while True:\n",
    "        # => switching loop that keeps in place the flow of the conversation\n",
    "        \n",
    "        # 1) Match your chatbot response to the user input and ask for its next message.\n",
    "        user_msg = input(\"User : \")\n",
    "        user_intention = new_intent_search(user_msg)\n",
    "        \n",
    "        # 3) For the exit case, reply back to the user and exit the console.\n",
    "        if user_intention == 'ending':\n",
    "            response = chatbot_response(user_intention)\n",
    "            break\n",
    "        \n",
    "        # 2) Define a default response to the undefined intention from the user.\n",
    "        if user_intention == 'undefined':\n",
    "            print(\"Chatbot: I did not understand. Could you tell me something else ?\")\n",
    "            # -> take a new message from user : easy, it loop again in the while     \n",
    "            \n",
    "        # 4) New : Call weather functions if intention detected is a question about weather\n",
    "        if user_intention == 'weather question':\n",
    "            city_time = createEntities(user_msg)\n",
    "            \n",
    "            #result = getWeather(\"Paris\", today)\n",
    "            weather_info_json = getWeather(city_time['city'], city_time['time'])\n",
    "            # print(result)\n",
    "            weather_response = process_weather_response(weather_info_json)\n",
    "            print(weather_response)"
   ]
  },
  {
   "cell_type": "code",
   "execution_count": 55,
   "id": "5087494b",
   "metadata": {},
   "outputs": [
    {
     "name": "stdout",
     "output_type": "stream",
     "text": [
      "Hi! I am Bot. To end conversation say 'bye' or 'leave'.\n",
      "User : Can you help me with meteorology ?\n",
      "Chatbot: How can I assist you today?\n",
      "User : What is the weather like in Los Angeles today ?\n",
      "today in Los Angeles you have 13.18 °C and 30.38 % humidity\n",
      "User : What is the weather like in Paris tomorrow ?\n",
      "tomorrow in Paris you have 9.1 °C and 92.37 % humidity\n",
      "User : parting\n",
      "Chatbot: Take care, hope to chat soon!\n"
     ]
    }
   ],
   "source": [
    "main_API()"
   ]
  },
  {
   "cell_type": "markdown",
   "id": "b11ca5a6",
   "metadata": {},
   "source": [
    "<span style=\"color:green; font-weight:bold;\">8 - Small project </span>"
   ]
  },
  {
   "cell_type": "code",
   "execution_count": 56,
   "id": "113ca561",
   "metadata": {},
   "outputs": [],
   "source": [
    "def detailed_temperature_response(weather_info_json):\n",
    "    \n",
    "    temperature = weather_info_json['Temperature (°C)']\n",
    "    city = weather_info_json['Location']\n",
    "    \n",
    "    # add color with the syntax described in https://stackoverflow.com/questions/68843711/how-to-return-colored-text-from-a-function\n",
    "    \n",
    "    if temperature < 0:\n",
    "        return f'\\033[34m🥶 It is very cold in {city} with only {temperature} °C, hope you enjoy ice skating\\033[0m'\n",
    "    else:\n",
    "        if temperature > 30:\n",
    "            return f'\\033[31m🥵 It is kind of hot in {city} with {temperature} °C, so you would better drink water\\033[0m'\n",
    "        else :\n",
    "            if temperature < 15:\n",
    "                return f'\\033[32m🙂 It is a little bit cold in {city} with {temperature} °C, but no worries about snow\\033[0m'\n",
    "            else:\n",
    "                return f'\\033[35m🌸 It is cool today, {temperature} °C in {city}. Have fun!\\033[0m'"
   ]
  },
  {
   "cell_type": "code",
   "execution_count": 57,
   "id": "be883af3",
   "metadata": {},
   "outputs": [],
   "source": [
    "def main_API_detailed():\n",
    "    print(\"Hi! I am Bot. To end conversation say 'bye' or 'leave'.\")\n",
    "    \n",
    "    while True:\n",
    "        # => switching loop that keeps in place the flow of the conversation\n",
    "        \n",
    "        # 1) Match your chatbot response to the user input and ask for its next message.\n",
    "        user_msg = input(\"User : \")\n",
    "        user_intention = new_intent_search(user_msg)\n",
    "        \n",
    "        # 3) For the exit case, reply back to the user and exit the console.\n",
    "        if user_intention == 'ending':\n",
    "            response = chatbot_response(user_intention)\n",
    "            break\n",
    "        \n",
    "        # 2) Define a default response to the undefined intention from the user.\n",
    "        if user_intention == 'undefined':\n",
    "            print(\"Chatbot: I did not understand. Could you tell me something else ?\")\n",
    "            # -> take a new message from user : easy, it loop again in the while     \n",
    "            \n",
    "        # 4) New : Call weather functions if intention detected is a question about weather\n",
    "        if user_intention == 'weather question':\n",
    "            city_time = createEntities(user_msg)\n",
    "            \n",
    "            #result = getWeather(\"Paris\", today)\n",
    "            weather_info_json = getWeather(city_time['city'], city_time['time'])\n",
    "            # print(result)\n",
    "            weather_response = detailed_temperature_response(weather_info_json)\n",
    "            print(weather_response)"
   ]
  },
  {
   "cell_type": "code",
   "execution_count": 62,
   "id": "d0c4a1bb",
   "metadata": {},
   "outputs": [
    {
     "name": "stdout",
     "output_type": "stream",
     "text": [
      "Hi! I am Bot. To end conversation say 'bye' or 'leave'.\n",
      "User : hi\n",
      "Chatbot: Hello! How can I help you today?\n",
      "User : Which temperature in Dublin tomorrow ?\n",
      "\u001b[32m🙂 It is a little bit cold in Dublin with 10.31 °C, but no worries about snow\u001b[0m\n",
      "User : What is the weather like in Cape Town today ?\n",
      "\u001b[35m🌸 It is cool today, 17.88 °C in Cape Town. Have fun!\u001b[0m\n",
      "User : thank a lot\n",
      "Chatbot: Anytime! Happy to help!\n",
      "User : bye\n",
      "Chatbot: Take care, hope to chat soon!\n"
     ]
    }
   ],
   "source": [
    "main_API_detailed()"
   ]
  }
 ],
 "metadata": {
  "kernelspec": {
   "display_name": "Python 3 (ipykernel)",
   "language": "python",
   "name": "python3"
  },
  "language_info": {
   "codemirror_mode": {
    "name": "ipython",
    "version": 3
   },
   "file_extension": ".py",
   "mimetype": "text/x-python",
   "name": "python",
   "nbconvert_exporter": "python",
   "pygments_lexer": "ipython3",
   "version": "3.10.9"
  }
 },
 "nbformat": 4,
 "nbformat_minor": 5
}
