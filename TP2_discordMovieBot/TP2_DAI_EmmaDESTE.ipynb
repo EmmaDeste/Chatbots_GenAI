{
 "cells": [
  {
   "cell_type": "markdown",
   "id": "a2c33194",
   "metadata": {},
   "source": [
    "# TP2 Discord Chatbot - 13 November 2024 - Emma DESTÉ"
   ]
  },
  {
   "cell_type": "markdown",
   "id": "b6c39504",
   "metadata": {},
   "source": [
    "<img src=\"screenshots/integrated_chatbot_framework.png\" width=\"700\" height=\"500\">"
   ]
  },
  {
   "cell_type": "markdown",
   "id": "46ec9004",
   "metadata": {},
   "source": [
    "## <span style=\"color:red; font-weight:bold;\">1) Discord Bot </span>\n",
    "\n",
    "### <span style=\"color:green; font-weight:bold;\">1 - On Discord </span>\n",
    "\n",
    "On the Discord developer portal https://discord.com/developers/applications, I logged in -> Applications -> New Application -> Create my app parrot_bot\n",
    "\n",
    "At first, I really struggled to create an app. Because everytime I created one, it was always deleted when I refresh the page.\n",
    "\n",
    "\n",
    "Solutions tested :\n",
    "- Change my browser : neither Chrome or Firefox works -> no\n",
    "- Incognito mode on my Safari browser -> no\n",
    "\n",
    "On my Discord account :\n",
    "- Advanced -> Activate developer mode\n",
    "<img src=\"screenshots/1_parametre_du_compte.png\" width=\"400\" height=\"250\">\n",
    "\n",
    "- Confidentiality & Security -> User parameters -> Stop filtering the supposed spam messages \n",
    "<img src=\"screenshots/2_no_filtering.png\" width=\"400\" height=\"250\">\n",
    "\n",
    "- Confidentiality & Security -> verify my account is ok\n",
    "<img src=\"screenshots/3_good_account.png\" width=\"400\" height=\"250\">\n",
    "\n",
    "- Server -> Copy server ID, I indeed can do it so this is not a developer mode problem linked to my account\n",
    "\n",
    "****************\n",
    "\n",
    "So desesperately, I create a new account and praying to be working this time. Update : it works !!!\n",
    "\n",
    "Installation menu :\n",
    "- **Install Link -> None**\n",
    "- **Installation Contexts -> X User Install**\n",
    "\n",
    "Bot menu :\n",
    "- **disable : Public Bot**\n",
    "- **enable : Message Content Intent**\n",
    "\n",
    "Create a new Discord server Chatbot_EFREI, add my bot to the users of the server : Inviter des gens -> lien vers le serveur https://discord.gg/3SWJ9PCm\n",
    "\n",
    "Back to the Developer Portal : **OAuth2 -> URL Generator -> Scopes : bot -> Bot permissions : administrator**\n",
    "I paste the generated URL into a new window of my browser, and make my bot accept the invitation.\n",
    "\n",
    "<img src=\"screenshots/addBot_1.png\" width=\"200\" height=\"150\">\n",
    "<img src=\"screenshots/addBot_2.png\" width=\"200\" height=\"150\">\n",
    "\n",
    "It works well, my bot is now part of my Discord server.\n",
    "\n",
    "<img src=\"screenshots/addBot_3.png\" width=\"200\" height=\"150\">\n"
   ]
  },
  {
   "cell_type": "markdown",
   "id": "f792c97a",
   "metadata": {},
   "source": [
    "### <span style=\"color:green; font-weight:bold;\">2 - On Python </span>"
   ]
  },
  {
   "cell_type": "code",
   "execution_count": 1,
   "id": "7ffe1b96",
   "metadata": {},
   "outputs": [
    {
     "name": "stdout",
     "output_type": "stream",
     "text": [
      "Requirement already satisfied: discord in /Users/emma/anaconda3/lib/python3.10/site-packages (2.3.2)\n",
      "Requirement already satisfied: discord.py>=2.3.2 in /Users/emma/anaconda3/lib/python3.10/site-packages (from discord) (2.4.0)\n",
      "Requirement already satisfied: aiohttp<4,>=3.7.4 in /Users/emma/anaconda3/lib/python3.10/site-packages (from discord.py>=2.3.2->discord) (3.10.10)\n",
      "Requirement already satisfied: multidict<7.0,>=4.5 in /Users/emma/anaconda3/lib/python3.10/site-packages (from aiohttp<4,>=3.7.4->discord.py>=2.3.2->discord) (6.1.0)\n",
      "Requirement already satisfied: async-timeout<5.0,>=4.0 in /Users/emma/anaconda3/lib/python3.10/site-packages (from aiohttp<4,>=3.7.4->discord.py>=2.3.2->discord) (4.0.3)\n",
      "Requirement already satisfied: attrs>=17.3.0 in /Users/emma/anaconda3/lib/python3.10/site-packages (from aiohttp<4,>=3.7.4->discord.py>=2.3.2->discord) (23.1.0)\n",
      "Requirement already satisfied: aiohappyeyeballs>=2.3.0 in /Users/emma/anaconda3/lib/python3.10/site-packages (from aiohttp<4,>=3.7.4->discord.py>=2.3.2->discord) (2.4.3)\n",
      "Requirement already satisfied: frozenlist>=1.1.1 in /Users/emma/anaconda3/lib/python3.10/site-packages (from aiohttp<4,>=3.7.4->discord.py>=2.3.2->discord) (1.5.0)\n",
      "Requirement already satisfied: aiosignal>=1.1.2 in /Users/emma/anaconda3/lib/python3.10/site-packages (from aiohttp<4,>=3.7.4->discord.py>=2.3.2->discord) (1.3.1)\n",
      "Requirement already satisfied: yarl<2.0,>=1.12.0 in /Users/emma/anaconda3/lib/python3.10/site-packages (from aiohttp<4,>=3.7.4->discord.py>=2.3.2->discord) (1.17.1)\n",
      "Requirement already satisfied: typing-extensions>=4.1.0 in /Users/emma/anaconda3/lib/python3.10/site-packages (from multidict<7.0,>=4.5->aiohttp<4,>=3.7.4->discord.py>=2.3.2->discord) (4.4.0)\n",
      "Requirement already satisfied: propcache>=0.2.0 in /Users/emma/anaconda3/lib/python3.10/site-packages (from yarl<2.0,>=1.12.0->aiohttp<4,>=3.7.4->discord.py>=2.3.2->discord) (0.2.0)\n",
      "Requirement already satisfied: idna>=2.0 in /Users/emma/anaconda3/lib/python3.10/site-packages (from yarl<2.0,>=1.12.0->aiohttp<4,>=3.7.4->discord.py>=2.3.2->discord) (3.4)\n",
      "Note: you may need to restart the kernel to use updated packages.\n"
     ]
    }
   ],
   "source": [
    "pip install -U discord"
   ]
  },
  {
   "cell_type": "markdown",
   "id": "614ebc78",
   "metadata": {},
   "source": [
    "Let's create the Discord connection :\n",
    "\n",
    "My bot token is obtained on Discord Developer Portal : **Bot -> Token -> Reset Token**\n",
    "\n",
    "/!\\ It is important to note that it will not work in the notebook, so I create a Python file to achieve this on PyCharm.\n",
    "However, I copy my code here so that it is easier to have a see of what I have done.\n",
    "\n",
    "First, let's install discord library on my PyCharm Python environment : **Terminal -> pip install -U discord**"
   ]
  },
  {
   "cell_type": "code",
   "execution_count": null,
   "id": "ec230022",
   "metadata": {},
   "outputs": [],
   "source": [
    "# Step 1 : Implement an instance of Client\n",
    "\n",
    "import discord\n",
    "\n",
    "TOKEN = \"MTMwNjI1NDYzNDg5MzE4MDkyOQ.GNZk3s.7jJSwTdDn5bj7LwhySSyMQ95MTZyRhzRurLquE\"  # my bot token\n",
    "class MyClient (discord . Client):\n",
    "    async def on_ready(self):\n",
    "        print('Logged in as ' + str(self.user.name))\n",
    "        print('The chatbot Id :: ' + str(self.user.id))\n",
    "\n",
    "client = MyClient(intents=discord.Intents.default())\n",
    "client.run(TOKEN)"
   ]
  },
  {
   "cell_type": "markdown",
   "id": "e481fb05",
   "metadata": {},
   "source": [
    "The output is : \n",
    "Logged in as parrot_bot\n",
    "\n",
    "The chatbot Id : 1306254634893180929. So it works fine :)\n",
    "\n",
    "\n",
    "### <span style=\"color:green; font-weight:bold;\">3 - Practice</span>\n",
    "\n",
    "First, I write on the general salon textuel so that the bot can respond to me :"
   ]
  },
  {
   "cell_type": "code",
   "execution_count": null,
   "id": "57a6c313",
   "metadata": {},
   "outputs": [],
   "source": [
    "# Step 2 : Receiving and sending messages from my Discord server & chatbot doesn't interact with its own messages\n",
    "\n",
    "# Inside class MyClient (discord.Client) I add :\n",
    "\n",
    "async def on_message(self, message):\n",
    "\n",
    "    if message.author == self.user:  # for the bot itself message -> ignore\n",
    "        return\n",
    "    \n",
    "    if message.content.lower() == \"hello\":  # to understand the message even if it is capital letters\n",
    "        await message.channel.send(\"Hello! How can I assist you today ?\")\n",
    "\n",
    "    if message.content.lower() == \"how are you ?\":\n",
    "        await message.channel.send(\"Fine and you ? The weather is cool today ☀️\")"
   ]
  },
  {
   "cell_type": "markdown",
   "id": "6c97057b",
   "metadata": {},
   "source": [
    "<img src=\"screenshots/bot_response_1.png\" width=\"300\" height=\"80\">\n",
    "\n",
    "Second, I add my weather chatbot. I copy my code into a new Python file that contains all the packages and functions, of course I had to go into the environment Terminal and install the necessary packages : *nltk*, *spellchecker* and *indexer*, *random*, *requests*.\n",
    "\n",
    "Of course I adapt my main code for having a Discord chat. My new function is then :"
   ]
  },
  {
   "cell_type": "code",
   "execution_count": null,
   "id": "a94ad177",
   "metadata": {},
   "outputs": [],
   "source": [
    "# Inside class MyClient (discord.Client) \n",
    "# In async def on_message(self, message) I add :\n",
    "\n",
    "async def on_message(self, message):\n",
    "\n",
    "    if message.author == self.user:  # for the bot itself message -> ignore\n",
    "        return\n",
    "\n",
    "    if message.content.lower() == \"how are you ?\":  # to understand the message even if it is capital letters\n",
    "        await message.channel.send(\"Fine and you ? The weather is cool today ☀️\")\n",
    "\n",
    "    else:\n",
    "        # no need to do a loop anymore -> Discord already perform its own question-answer loop\n",
    "\n",
    "        user_intention = new_intent_search(message.content)\n",
    "\n",
    "        # no more quit option\n",
    "\n",
    "        # 4) Call weather functions if intention detected is a question about weather\n",
    "        if user_intention == 'weather question':\n",
    "            city_time = createEntities(message.content)\n",
    "\n",
    "            weather_info_json = getWeather(city_time['city'], city_time['time'])\n",
    "            weather_response = detailed_temperature_response(weather_info_json)\n",
    "\n",
    "            await message.channel.send(weather_response)\n",
    "\n",
    "        # 2) Define a default response to the undefined intention from the user.\n",
    "        elif user_intention == 'undefined':\n",
    "            await message.channel.send(\"I did not understand. Could you tell me something else ?\")\n",
    "        else:\n",
    "            # Répondre avec une réponse générique du chatbot\n",
    "            response = chatbot_response(user_intention)\n",
    "            await message.channel.send(response)"
   ]
  },
  {
   "cell_type": "markdown",
   "id": "fecdf48b",
   "metadata": {},
   "source": [
    "I implemented new functionalities : I tried to be as creative as I can :)\n",
    "- 🖼️ **When the user asks for the weather, I display a picture of this city** (1)\n",
    "\n",
    "I create an account so that I have an access key to this API. I also create an application on Unsplash in order for me to have an access key to call this API. \n",
    "Documentation here : https://unsplash.com/documentation, especially the search photo section\n",
    "\n",
    "<img src=\"screenshots/city_image_2.png\" width=\"300\" height=\"80\">\n",
    "\n",
    "- 👤 **Saying the username when the user is greeting or leaving** (2)\n",
    "\n",
    "<img src=\"screenshots/username_response.png\" width=\"300\" height=\"80\">\n",
    "\n",
    "\n",
    "- 🎞️ **Display a GIF when the user thanks, apologies or helps** (3)\n",
    "\n",
    "I create an account on Tenor, create an app so that I have an access key to its API. \n",
    "The documentation to handle the use of the API is available here : https://developers.google.com/tenor/guides/quickstart?hl=fr\n",
    "\n",
    "<img src=\"screenshots/gif_apology.png\" width=\"300\" height=\"80\">\n"
   ]
  },
  {
   "cell_type": "markdown",
   "id": "9d2a50f4",
   "metadata": {},
   "source": [
    "## <span style=\"color:red; font-weight:bold;\">2) Wit.ai </span>\n",
    "\n",
    "To extract intentions from the user, we defined regex in TP1, now we will use NLP to capture intent and entities much more easily and automatically.\n",
    "\n",
    "### <span style=\"color:green; font-weight:bold;\">1 - Change Chatbot topic </span>\n",
    "\n",
    "Let's implement a Movie Bot.\n",
    "\n",
    "First, we need the database API from https://www.themoviedb.org to get informations on movies : **Paramètres -> API -> Demander une clé d'API -> Développeur**. My access key is 731f1dd6e50b36840dc855649f445a3b\n",
    "\n",
    "This documentation helps me to create my own queries : https://developer.themoviedb.org/docs/wrappers-and-libraries"
   ]
  },
  {
   "cell_type": "code",
   "execution_count": 2,
   "id": "1638fcc5",
   "metadata": {},
   "outputs": [
    {
     "name": "stdout",
     "output_type": "stream",
     "text": [
      "Requirement already satisfied: tmdbv3api in /Users/emma/anaconda3/lib/python3.10/site-packages (1.9.0)\n",
      "Requirement already satisfied: requests in /Users/emma/anaconda3/lib/python3.10/site-packages (from tmdbv3api) (2.28.1)\n",
      "Requirement already satisfied: urllib3<1.27,>=1.21.1 in /Users/emma/anaconda3/lib/python3.10/site-packages (from requests->tmdbv3api) (1.26.14)\n",
      "Requirement already satisfied: charset-normalizer<3,>=2 in /Users/emma/anaconda3/lib/python3.10/site-packages (from requests->tmdbv3api) (2.0.4)\n",
      "Requirement already satisfied: certifi>=2017.4.17 in /Users/emma/anaconda3/lib/python3.10/site-packages (from requests->tmdbv3api) (2024.7.4)\n",
      "Requirement already satisfied: idna<4,>=2.5 in /Users/emma/anaconda3/lib/python3.10/site-packages (from requests->tmdbv3api) (3.4)\n",
      "Note: you may need to restart the kernel to use updated packages.\n"
     ]
    }
   ],
   "source": [
    "pip install tmdbv3api"
   ]
  },
  {
   "cell_type": "markdown",
   "id": "ebee4042",
   "metadata": {},
   "source": [
    "In this section, I want to try to display the info about the movie and the poster from a defined user sentence."
   ]
  },
  {
   "cell_type": "code",
   "execution_count": 120,
   "id": "4486db51",
   "metadata": {},
   "outputs": [],
   "source": [
    "from tmdbv3api import TMDb, Search, Movie\n",
    "\n",
    "def query_tmdb_db(movie_name):\n",
    "    # initialize the TMDb object with my API key\n",
    "    tmdb = TMDb()\n",
    "    tmdb.api_key = '731f1dd6e50b36840dc855649f445a3b'\n",
    "\n",
    "    # create Movie object to interact with the Movie endpoints\n",
    "    movie_api = Movie()\n",
    "\n",
    "    # let's try manual try out\n",
    "    response = Search().movies(movie_name)  # I get the warning : search() is depreciated, use Search().movies()\n",
    "\n",
    "    for movie in response:\n",
    "        movie_name = movie.title\n",
    "        print(f\"🎬 Title: {movie_name}\")\n",
    "        \n",
    "        release_year = movie.release_date[:4]\n",
    "        print(f\"🗓️ Release Year: {release_year}\")\n",
    "        \n",
    "        plot = movie.overview\n",
    "        print(f\"📖 Plot: {plot}\")\n",
    "        \n",
    "        # rating = movie.vote_average\n",
    "        \n",
    "        if movie.poster_path:  # to avoid URL ending by None\n",
    "            poster_link = f\"https://image.tmdb.org/t/p/w500{movie.poster_path}\"\n",
    "            print(f\"🖼️ Poster Path: {poster_link}\")\n",
    "\n",
    "        credits = movie_api.credits(movie.id)  # fetch movie credits using the movie ID\n",
    "        director = None  # init\n",
    "        if 'crew' in credits:\n",
    "            for crew_member in credits['crew']:\n",
    "                if crew_member['job'] == 'Director':\n",
    "                    director = crew_member['name']\n",
    "                    break  # exit when 1 director found\n",
    "        print(f\"🎥 Director: {director if director else 'No director found'}\")\n",
    "\n",
    "        print(\"-\" * 20)\n",
    "    "
   ]
  },
  {
   "cell_type": "code",
   "execution_count": 121,
   "id": "d198de78",
   "metadata": {},
   "outputs": [
    {
     "name": "stdout",
     "output_type": "stream",
     "text": [
      "🎬 Title: Star Wars\n",
      "🗓️ Release Year: 1977\n",
      "📖 Plot: Princess Leia is captured and held hostage by the evil Imperial forces in their effort to take over the galactic Empire. Venturesome Luke Skywalker and dashing captain Han Solo team together with the loveable robot duo R2-D2 and C-3PO to rescue the beautiful princess and restore peace and justice in the Empire.\n",
      "🖼️ Poster Path: https://image.tmdb.org/t/p/w500/6FfCtAuVAW8XJjZ7eWeLibRLWTw.jpg\n",
      "🎥 Director: George Lucas\n",
      "--------------------\n",
      "🎬 Title: Star Wars: The Force Awakens\n",
      "🗓️ Release Year: 2015\n",
      "📖 Plot: Thirty years after defeating the Galactic Empire, Han Solo and his allies face a new threat from the evil Kylo Ren and his army of Stormtroopers.\n",
      "🖼️ Poster Path: https://image.tmdb.org/t/p/w500/wqnLdwVXoBjKibFRR5U3y0aDUhs.jpg\n",
      "🎥 Director: J.J. Abrams\n",
      "--------------------\n",
      "🎬 Title: Star Wars: The Last Jedi\n",
      "🗓️ Release Year: 2017\n",
      "📖 Plot: Rey develops her newly discovered abilities with the guidance of Luke Skywalker, who is unsettled by the strength of her powers. Meanwhile, the Resistance prepares to do battle with the First Order.\n",
      "🖼️ Poster Path: https://image.tmdb.org/t/p/w500/kOVEVeg59E0wsnXmF9nrh6OmWII.jpg\n",
      "🎥 Director: Rian Johnson\n",
      "--------------------\n",
      "🎬 Title: Star Wars: The Rise of Skywalker\n",
      "🗓️ Release Year: 2019\n",
      "📖 Plot: The surviving Resistance faces the First Order once again as the journey of Rey, Finn and Poe Dameron continues. With the power and knowledge of generations behind them, the final battle begins.\n",
      "🖼️ Poster Path: https://image.tmdb.org/t/p/w500/db32LaOibwEliAmSL2jjDF6oDdj.jpg\n",
      "🎥 Director: J.J. Abrams\n",
      "--------------------\n",
      "🎬 Title: Doraemon: Nobita's Little Star Wars\n",
      "🗓️ Release Year: 1985\n",
      "📖 Plot: Nobita helps Doraemon to create a space movie. After Dekisugi fails to help them, the duo rope in Shizuka, who prefers to make a film about dolls.\n",
      "🖼️ Poster Path: https://image.tmdb.org/t/p/w500/n4IPqrfXEEtMC8hzV5PaCElkdNP.jpg\n",
      "🎥 Director: Tsutomu Shibayama\n",
      "--------------------\n",
      "🎬 Title: Solo: A Star Wars Story\n",
      "🗓️ Release Year: 2018\n",
      "📖 Plot: Through a series of daring escapades deep within a dark and dangerous criminal underworld, Han Solo meets his mighty future copilot Chewbacca and encounters the notorious gambler Lando Calrissian.\n",
      "🖼️ Poster Path: https://image.tmdb.org/t/p/w500/4oD6VEccFkorEBTEDXtpLAaz0Rl.jpg\n",
      "🎥 Director: Ron Howard\n",
      "--------------------\n",
      "🎬 Title: Doraemon the Movie: Nobita's Little Star Wars 2021\n",
      "🗓️ Release Year: 2022\n",
      "📖 Plot: One day during summer vacation, a palm-sized alien named Papi appears from a small rocket that Nobita picks up. He is the president of Pirika, a small planet in outer space, and has come to Earth to escape the rebels. Doraemon and his friends are puzzled by Papi’s small size, but as they play together using the secret tool “Small Light”, they gradually become friends. However, a whale-shaped space battleship comes to earth and attacks Doraemon, Nobita and the others in order to capture Papi. Feeling responsible for getting everyone involved, Papi tries to stand up to the rebels. Doraemon and his friends leave for the planet Pirika to protect their dear friend and his home.\n",
      "🖼️ Poster Path: https://image.tmdb.org/t/p/w500/48gKZioIDeUOI0afbYv3kh9u9RQ.jpg\n",
      "🎥 Director: Susumu Yamaguchi\n",
      "--------------------\n",
      "🎬 Title: Rogue One: A Star Wars Story\n",
      "🗓️ Release Year: 2016\n",
      "📖 Plot: A rogue band of resistance fighters unite for a mission to steal the Death Star plans and bring a new hope to the galaxy.\n",
      "🖼️ Poster Path: https://image.tmdb.org/t/p/w500/i0yw1mFbB7sNGHCs7EXZPzFkdA1.jpg\n",
      "🎥 Director: Gareth Edwards\n",
      "--------------------\n",
      "🎬 Title: Star Wars: Episode I - The Phantom Menace\n",
      "🗓️ Release Year: 1999\n",
      "📖 Plot: Anakin Skywalker, a young slave strong with the Force, is discovered on Tatooine. Meanwhile, the evil Sith have returned, enacting their plot for revenge against the Jedi.\n",
      "🖼️ Poster Path: https://image.tmdb.org/t/p/w500/6wkfovpn7Eq8dYNKaG5PY3q2oq6.jpg\n",
      "🎥 Director: George Lucas\n",
      "--------------------\n",
      "🎬 Title: Star Wars: Episode III - Revenge of the Sith\n",
      "🗓️ Release Year: 2005\n",
      "📖 Plot: The evil Darth Sidious enacts his final plan for unlimited power -- and the heroic Jedi Anakin Skywalker must choose a side.\n",
      "🖼️ Poster Path: https://image.tmdb.org/t/p/w500/xfSAoBEm9MNBjmlNcDYLvLSMlnq.jpg\n",
      "🎥 Director: George Lucas\n",
      "--------------------\n",
      "🎬 Title: Star Wars: Episode II - Attack of the Clones\n",
      "🗓️ Release Year: 2002\n",
      "📖 Plot: Following an assassination attempt on Senator Padmé Amidala, Jedi Knights Anakin Skywalker and Obi-Wan Kenobi investigate a mysterious plot that could change the galaxy forever.\n",
      "🖼️ Poster Path: https://image.tmdb.org/t/p/w500/oZNPzxqM2s5DyVWab09NTQScDQt.jpg\n",
      "🎥 Director: George Lucas\n",
      "--------------------\n",
      "🎬 Title: Star Wars: The Clone Wars\n",
      "🗓️ Release Year: 2008\n",
      "📖 Plot: As the Clone Wars sweep through the galaxy, the heroic Jedi Knights struggle to maintain order and restore peace. More and more systems are falling prey to the forces of the dark side as the Galactic Republic slips further and further under the sway of the Separatists and their never-ending droid army. Anakin Skywalker and his Padawan learner Ahsoka Tano find themselves on a mission with far-reaching consequences, one that brings them face-to-face with crime lord Jabba the Hutt. But Count Dooku and his sinister agents, including the nefarious Asajj Ventress, will stop at nothing to ensure that Anakin and Ahsoka fail at their quest. Meanwhile, on the front lines of the Clone Wars, Obi-Wan Kenobi and Master Yoda lead the massive clone army in a valiant effort to resist the forces of the dark side...\n",
      "🖼️ Poster Path: https://image.tmdb.org/t/p/w500/iJQfixW818LUdSXlCDL3JZm0S0g.jpg\n",
      "🎥 Director: Dave Filoni\n",
      "--------------------\n",
      "🎬 Title: Robot Chicken: Star Wars\n",
      "🗓️ Release Year: 2007\n",
      "📖 Plot: A series of 30 sketches, following the hilarious antics of various characters from a galaxy, far, far away.\n",
      "🖼️ Poster Path: https://image.tmdb.org/t/p/w500/h44WN4mVJ6wEpJgLaaNoFjv0NAo.jpg\n",
      "🎥 Director: Seth Green\n",
      "--------------------\n",
      "🎬 Title: Star Wars: Heroes & Villains\n",
      "🗓️ Release Year: 2005\n",
      "📖 Plot: A look at the creation and filming of the various heroes and villains from all six Star Wars movies, leading up to the release of Star Wars: Episode III - Revenge of the Sith.\n",
      "🖼️ Poster Path: https://image.tmdb.org/t/p/w500/9ReI6qt3bvsIxUZkDpOzaCpiLwx.jpg\n",
      "🎥 Director: Anthony Daniels\n",
      "--------------------\n",
      "🎬 Title: Creatures from Star Wars\n",
      "🗓️ Release Year: 2006\n",
      "📖 Plot: \n",
      "🎥 Director: No director found\n",
      "--------------------\n",
      "🎬 Title: Star Wars Kid: The Rise of the Digital Shadows\n",
      "🗓️ Release Year: 2022\n",
      "📖 Plot: Ghyslain Raza, better known as the “Star Wars Kid,” breaks his silence to reflect on our hunger for content and the right to be forgotten in the digital age.\n",
      "🖼️ Poster Path: https://image.tmdb.org/t/p/w500/zspMlOFJ76g5KyfmucgnvnkJnuN.jpg\n",
      "🎥 Director: Mathieu Fournier\n",
      "--------------------\n",
      "🎬 Title: LEGO Star Wars Terrifying Tales\n",
      "🗓️ Release Year: 2021\n",
      "📖 Plot: Poe Dameron and BB-8 must face the greedy crime boss Graballa the Hutt, who has purchased Darth Vader’s castle and is renovating it into the galaxy’s first all-inclusive Sith-inspired luxury hotel.\n",
      "🖼️ Poster Path: https://image.tmdb.org/t/p/w500/fYiaBZDjyXjvlY6EDZMAxIhBO1I.jpg\n",
      "🎥 Director: Ken Cunningham\n",
      "--------------------\n",
      "🎬 Title: The Star Wars Holiday Special\n",
      "🗓️ Release Year: 1978\n",
      "📖 Plot: Luke Skywalker and Han Solo battle evil Imperial forces to help Chewbacca reach his imperiled family on the Wookiee planet - in time for Life Day, their most important day of the year!\n",
      "🖼️ Poster Path: https://image.tmdb.org/t/p/w500/eRSKviGcTqHd34vCLjcztJF6Eaw.jpg\n",
      "🎥 Director: Steve Binder\n",
      "--------------------\n",
      "🎬 Title: LEGO Star Wars Holiday Special\n",
      "🗓️ Release Year: 2020\n",
      "📖 Plot: As her friends prep for a Life Day holiday celebration, Rey journeys with BB-8 on a quest to gain a deeper knowledge of the Force at a mysterious Jedi Temple. There, she embarks on a cross-timeline adventure through beloved moments in Star Wars history, coming into contact with iconic heroes and villains from all eras of the saga. But will she make it back in time for the Life Day feast?\n",
      "🖼️ Poster Path: https://image.tmdb.org/t/p/w500/zyzJSI7UZZzz5Toj10rYGF5689z.jpg\n",
      "🎥 Director: Ken Cunningham\n",
      "--------------------\n",
      "🎬 Title: Robot Chicken: Star Wars Episode II\n",
      "🗓️ Release Year: 2008\n",
      "📖 Plot: Seth Green and Matthew Senreich serve up more hilarious Star Wars-inspired satire in this second compilation of sketches featuring the zany stop-motion animation of Adult Swim's \"Robot Chicken.\" Gary the stormtrooper deals with irascible boss Darth Vader on Take Your Daughter to Work Day, while Anakin babysits a certain up-and-coming Jedi.\n",
      "🖼️ Poster Path: https://image.tmdb.org/t/p/w500/dM5eCurdAXYd3Dvyr9Rz2YSj3rJ.jpg\n",
      "🎥 Director: Seth Green\n",
      "--------------------\n"
     ]
    }
   ],
   "source": [
    "movie_name = \"Star Wars\"\n",
    "query_tmdb_db(movie_name)"
   ]
  },
  {
   "cell_type": "code",
   "execution_count": 83,
   "id": "b1ee6f45",
   "metadata": {},
   "outputs": [
    {
     "data": {
      "text/html": [
       "<img src=\"https://image.tmdb.org/t/p/w500/6FfCtAuVAW8XJjZ7eWeLibRLWTw.jpg\"/>"
      ],
      "text/plain": [
       "<IPython.core.display.Image object>"
      ]
     },
     "metadata": {},
     "output_type": "display_data"
    }
   ],
   "source": [
    "# Displaying the first poster : Star Wars of 1977 (to check if the path generated is correct)\n",
    "\n",
    "from IPython.display import Image, display\n",
    "\n",
    "url = \"https://image.tmdb.org/t/p/w500/6FfCtAuVAW8XJjZ7eWeLibRLWTw.jpg\"\n",
    "display(Image(url=url))"
   ]
  },
  {
   "cell_type": "markdown",
   "id": "90b421bc",
   "metadata": {},
   "source": [
    "### <span style=\"color:green; font-weight:bold;\">2 - Starting a Wit.ai App </span>\n",
    "\n",
    "Let's use the LNU : Wit.ai\n",
    "\n",
    "### <span style=\"color:green; font-weight:bold;\">3 - Train it to detect Intents and Entities </span>\n",
    "\n",
    "First, I sign in to my Meta account on https://wit.ai and **New App -> Understanding**\n",
    "\n",
    "Then I add one by one the sentence with their according intent and entities.\n",
    "<img src=\"screenshots/wit_new_sentence.png\" width=\"600\" height=\"200\">\n",
    "\n",
    "Then it displays the following message to ensure that the sentences are well registered :\n",
    "<img src=\"screenshots/wit_new_added.png\" width=\"500\" height=\"200\">\n",
    "\n",
    "Since it is based on ML and AI, the more I give examples the more the model gets accurate. So I define more sentences that are similar to the ones in the TP.\n",
    "\n",
    "********\n",
    "\n",
    "I define sentences for the intents like director, realease year, and also more basic intents like greeting, bye, help and thanks.\n",
    "With some changes of syntax so that my database contains better data. \n",
    "\n",
    "Here are the counts of the sentences I defined one by one : 34 for movie info, 34 for the director, 38 for the actors, 22 for the release year, 22 for greeting, 26 for bye, 31 for help and 32 for thanks.\n",
    "Totally, I now get **239 sentences and intents recorded in my database**. Hope it will be good enough to create a quite performant robot.\n",
    "\n",
    "Let see the whole list of intents and entities that I have given to the model : **Management -> Intents**\n",
    "<img src=\"screenshots/wit_list_intents2.png\" width=\"180\" height=\"50\">\n",
    "\n",
    "As well as the sentences : **Management -> Utterances**\n",
    "<img src=\"screenshots/wit_list_utt2.png\" width=\"170\" height=\"50\">\n",
    "\n",
    "********\n",
    "\n",
    "Also, I observed that as long as I was recording more and more sentences, the confidence level was also increasing along and it finished by giving me most of the time the correct intent. It is nice to see that the practice match the theory."
   ]
  },
  {
   "cell_type": "markdown",
   "id": "b80c9fbf",
   "metadata": {},
   "source": [
    "### <span style=\"color:green; font-weight:bold;\">4 - Query Wit from Python </span>\n",
    "\n",
    "First of all, beginning this part, I realize that my output looks like this when I call the API : so that entities are always empty\n",
    "\n",
    "<img src=\"screenshots/wit_badEnti.png\" width=\"170\" height=\"50\">\n",
    "\n",
    "Meaning that I have misunderstood the guidelines and then wrongly registered sentences in my database. It should be train and validate like the following :\n",
    "\n",
    "<img src=\"screenshots/wit_goodDef.png\" width=\"170\" height=\"50\">\n",
    "\n",
    "So now... I just have to delete my previous trainings and do it again with a correct registration method. I love being me :)"
   ]
  },
  {
   "cell_type": "code",
   "execution_count": 6,
   "id": "65f49cf7",
   "metadata": {},
   "outputs": [
    {
     "name": "stdout",
     "output_type": "stream",
     "text": [
      "Requirement already satisfied: wit in /Users/emma/anaconda3/lib/python3.10/site-packages (6.0.1)\n",
      "Requirement already satisfied: requests>=0.8.8 in /Users/emma/anaconda3/lib/python3.10/site-packages (from wit) (2.28.1)\n",
      "Requirement already satisfied: prompt-toolkit in /Users/emma/anaconda3/lib/python3.10/site-packages (from wit) (3.0.36)\n",
      "Requirement already satisfied: charset-normalizer<3,>=2 in /Users/emma/anaconda3/lib/python3.10/site-packages (from requests>=0.8.8->wit) (2.0.4)\n",
      "Requirement already satisfied: urllib3<1.27,>=1.21.1 in /Users/emma/anaconda3/lib/python3.10/site-packages (from requests>=0.8.8->wit) (1.26.14)\n",
      "Requirement already satisfied: idna<4,>=2.5 in /Users/emma/anaconda3/lib/python3.10/site-packages (from requests>=0.8.8->wit) (3.4)\n",
      "Requirement already satisfied: certifi>=2017.4.17 in /Users/emma/anaconda3/lib/python3.10/site-packages (from requests>=0.8.8->wit) (2024.7.4)\n",
      "Requirement already satisfied: wcwidth in /Users/emma/anaconda3/lib/python3.10/site-packages (from prompt-toolkit->wit) (0.2.5)\n",
      "Note: you may need to restart the kernel to use updated packages.\n"
     ]
    }
   ],
   "source": [
    "pip install wit"
   ]
  },
  {
   "cell_type": "code",
   "execution_count": 51,
   "id": "a8d33393",
   "metadata": {},
   "outputs": [
    {
     "name": "stderr",
     "output_type": "stream",
     "text": [
      "DEBUG:urllib3.connectionpool:Starting new HTTPS connection (1): api.wit.ai:443\n",
      "DEBUG:urllib3.connectionpool:https://api.wit.ai:443 \"GET /message?q=tell+me+about+the+Spiderman+%282007%29 HTTP/1.1\" 200 863\n"
     ]
    },
    {
     "name": "stdout",
     "output_type": "stream",
     "text": [
      "{'entities': {'movieName:movieName': [{'body': 'the Spiderman', 'confidence': 0.9995, 'end': 27, 'entities': [], 'id': '1613627029224984', 'name': 'movieName', 'role': 'movieName', 'start': 14, 'type': 'value', 'value': 'the spiderman'}], 'releaseYear:releaseYear': [{'body': '(2007)', 'confidence': 1, 'end': 34, 'entities': [], 'id': '1205896443820124', 'name': 'releaseYear', 'role': 'releaseYear', 'start': 28, 'type': 'value', 'value': '(2007)'}]}, 'intents': [{'confidence': 0.9981838130946519, 'id': '1915679975610770', 'name': 'movieinfo'}], 'text': 'tell me about the Spiderman (2007)', 'traits': {}}\n"
     ]
    }
   ],
   "source": [
    "from wit import Wit\n",
    "\n",
    "wit_access_token = \"XGC7EWF2AKPW4FVQ7PHASOZE7TO6ZS72\"  # I define my access key to wit.ai\n",
    "\n",
    "client = Wit(wit_access_token)\n",
    "nlp_data = client.message ('tell me about the Spiderman (2007)')\n",
    "print(nlp_data)"
   ]
  },
  {
   "cell_type": "markdown",
   "id": "0a88fcbd",
   "metadata": {},
   "source": [
    "So the wit API is well accessed since I get a complete response. I am happy to obtain all the info that I need for later : confidence level and intent of the message. Let's now create the function to extract the entities, because I just cannot give this type of raw answer to a user. Let's proccess :"
   ]
  },
  {
   "cell_type": "code",
   "execution_count": 37,
   "id": "de598f6e",
   "metadata": {},
   "outputs": [],
   "source": [
    "def extract_entity(nlp_data, entity_name):\n",
    "\n",
    "    entities = nlp_data.get('entities', {})\n",
    "    entity_key = f\"{entity_name}:{entity_name}\"  # format 'entities': {'movieName:movieName'\n",
    "    \n",
    "    if entity_key in entities:\n",
    "        for entity in entities[entity_key]:  # iterate through entity entries\n",
    "            if entity.get('confidence', 0) >= 0.5:  # verify the confi level is enough\n",
    "                return entity.get('value')\n",
    "    \n",
    "    return None"
   ]
  },
  {
   "cell_type": "markdown",
   "id": "b9699861",
   "metadata": {},
   "source": [
    "Now let's test this function to verify I well obtained the movies' titles for all the intents that I defined in the database."
   ]
  },
  {
   "cell_type": "code",
   "execution_count": 47,
   "id": "391ed4a3",
   "metadata": {},
   "outputs": [
    {
     "name": "stderr",
     "output_type": "stream",
     "text": [
      "DEBUG:urllib3.connectionpool:Starting new HTTPS connection (1): api.wit.ai:443\n",
      "DEBUG:urllib3.connectionpool:https://api.wit.ai:443 \"GET /message?q=tell+me+about+the+Spiderman+%282007%29 HTTP/1.1\" 200 868\n"
     ]
    },
    {
     "name": "stdout",
     "output_type": "stream",
     "text": [
      "{'entities': {'movieName:movieName': [{'body': 'the Spiderman', 'confidence': 0.9995, 'end': 27, 'entities': [], 'id': '1613627029224984', 'name': 'movieName', 'role': 'movieName', 'start': 14, 'type': 'value', 'value': 'the spiderman'}], 'releaseYear:releaseYear': [{'body': '(2007)', 'confidence': 0.9995, 'end': 34, 'entities': [], 'id': '1205896443820124', 'name': 'releaseYear', 'role': 'releaseYear', 'start': 28, 'type': 'value', 'value': '(2007)'}]}, 'intents': [{'confidence': 0.9991085139271106, 'id': '1915679975610770', 'name': 'movieinfo'}], 'text': 'tell me about the Spiderman (2007)', 'traits': {}}\n",
      "the spiderman\n",
      "(2007)\n"
     ]
    }
   ],
   "source": [
    "from wit import Wit\n",
    "\n",
    "wit_access_token = \"XGC7EWF2AKPW4FVQ7PHASOZE7TO6ZS72\"  # I define my access key to wit.ai\n",
    "\n",
    "client = Wit(wit_access_token)\n",
    "nlp_data = client.message('tell me about the Spiderman (2007)')\n",
    "print(nlp_data)\n",
    "\n",
    "entity_value = extract_entity(nlp_data, \"movieName\")\n",
    "print(entity_value)\n",
    "\n",
    "entity_value = extract_entity(nlp_data, \"releaseYear\")\n",
    "print(entity_value)  # Output: 2007"
   ]
  },
  {
   "cell_type": "code",
   "execution_count": 48,
   "id": "f637b08c",
   "metadata": {},
   "outputs": [
    {
     "name": "stderr",
     "output_type": "stream",
     "text": [
      "DEBUG:urllib3.connectionpool:Starting new HTTPS connection (1): api.wit.ai:443\n",
      "DEBUG:urllib3.connectionpool:https://api.wit.ai:443 \"GET /message?q=Can+you+tell+me+the+story+of+Frozen%3F HTTP/1.1\" 200 806\n"
     ]
    },
    {
     "name": "stdout",
     "output_type": "stream",
     "text": [
      "{'entities': {'movieName:movieName': [{'body': 'story', 'confidence': 1, 'end': 25, 'entities': [], 'id': '1613627029224984', 'name': 'movieName', 'role': 'movieName', 'start': 20, 'type': 'value', 'value': 'Story'}, {'body': 'Frozen', 'confidence': 0.9995, 'end': 35, 'entities': [], 'id': '1613627029224984', 'name': 'movieName', 'role': 'movieName', 'start': 29, 'type': 'value', 'value': 'Frozen'}]}, 'intents': [{'confidence': 0.9921682584616702, 'id': '1915679975610770', 'name': 'movieinfo'}], 'text': 'Can you tell me the story of Frozen?', 'traits': {}}\n",
      "Story\n"
     ]
    }
   ],
   "source": [
    "nlp_data = client.message ('Can you tell me the story of Frozen?')\n",
    "print(nlp_data)\n",
    "\n",
    "entity_value = extract_entity(nlp_data, \"movieName\")\n",
    "print(entity_value)"
   ]
  },
  {
   "cell_type": "code",
   "execution_count": 49,
   "id": "161a55b6",
   "metadata": {},
   "outputs": [
    {
     "name": "stderr",
     "output_type": "stream",
     "text": [
      "DEBUG:urllib3.connectionpool:Starting new HTTPS connection (1): api.wit.ai:443\n",
      "DEBUG:urllib3.connectionpool:https://api.wit.ai:443 \"GET /message?q=Who%E2%80%99s+the+mastermind+behind+Gladiator%3F HTTP/1.1\" 200 542\n"
     ]
    },
    {
     "name": "stdout",
     "output_type": "stream",
     "text": [
      "{'entities': {'movieName:movieName': [{'body': 'Gladiator', 'confidence': 0.9995, 'end': 37, 'entities': [], 'id': '1613627029224984', 'name': 'movieName', 'role': 'movieName', 'start': 28, 'type': 'value', 'value': 'Gladiator'}]}, 'intents': [{'confidence': 0.9801335217566862, 'id': '1150079026534659', 'name': 'director'}], 'text': 'Who’s the mastermind behind Gladiator?', 'traits': {}}\n",
      "Gladiator\n"
     ]
    }
   ],
   "source": [
    "nlp_data = client.message ('Who’s the mastermind behind Gladiator?')\n",
    "print(nlp_data)\n",
    "\n",
    "entity_value = extract_entity(nlp_data, \"movieName\")\n",
    "print(entity_value)"
   ]
  },
  {
   "cell_type": "code",
   "execution_count": 50,
   "id": "473e611e",
   "metadata": {},
   "outputs": [
    {
     "name": "stderr",
     "output_type": "stream",
     "text": [
      "DEBUG:urllib3.connectionpool:Starting new HTTPS connection (1): api.wit.ai:443\n",
      "DEBUG:urllib3.connectionpool:https://api.wit.ai:443 \"GET /message?q=any+idea+when+Titanic+came+out%3F HTTP/1.1\" 200 531\n"
     ]
    },
    {
     "name": "stdout",
     "output_type": "stream",
     "text": [
      "{'entities': {'movieName:movieName': [{'body': 'Titanic', 'confidence': 0.9995, 'end': 21, 'entities': [], 'id': '1613627029224984', 'name': 'movieName', 'role': 'movieName', 'start': 14, 'type': 'value', 'value': 'Titanic'}]}, 'intents': [{'confidence': 0.8700780745493157, 'id': '549794091248342', 'name': 'releaseYear'}], 'text': 'any idea when Titanic came out?', 'traits': {}}\n",
      "Titanic\n"
     ]
    }
   ],
   "source": [
    "nlp_data = client.message ('any idea when Titanic came out?')\n",
    "print(nlp_data)\n",
    "\n",
    "entity_value = extract_entity(nlp_data, \"movieName\")\n",
    "print(entity_value)"
   ]
  },
  {
   "cell_type": "markdown",
   "id": "cae9a9b0",
   "metadata": {},
   "source": [
    "Now, I want to try to display the info about the movie and the poster accordingly to a defined user sentence and its intent. So let's redefined a function that doesn't display all the info of the movie :"
   ]
  },
  {
   "cell_type": "code",
   "execution_count": 212,
   "id": "400851f3",
   "metadata": {},
   "outputs": [],
   "source": [
    "def movie_entity_from_intent(movie_name, intent):\n",
    "    # initialize the TMDb object with my API key\n",
    "    tmdb = TMDb()\n",
    "    tmdb.api_key = '731f1dd6e50b36840dc855649f445a3b'\n",
    "\n",
    "    # create Movie object to interact with the Movie endpoints\n",
    "    movie_api = Movie()\n",
    "\n",
    "    # let's try manual try out\n",
    "    response = Search().movies(movie_name)  # I get the warning : search() is depreciated, use Search().movies()\n",
    "\n",
    "    for movie in response:\n",
    "        \n",
    "        movie_name = movie.title\n",
    "        \n",
    "        release_year = movie.release_date[:4]\n",
    "        \n",
    "        plot = movie.overview\n",
    "        \n",
    "        if movie.poster_path:  # to avoid URL ending by None\n",
    "            poster_link = f\"https://image.tmdb.org/t/p/w500{movie.poster_path}\"\n",
    "\n",
    "        credits = movie_api.credits(movie.id)  # fetch movie credits using the movie ID\n",
    "        director = None  # init\n",
    "        if 'crew' in credits:\n",
    "            for crew_member in credits['crew']:\n",
    "                if crew_member['job'] == 'Director':\n",
    "                    director = crew_member['name']\n",
    "                    break  # exit when 1 director found\n",
    "                    \n",
    "        main_cast = \"\"\n",
    "        if 'cast' in credits:\n",
    "            #print(credits)\n",
    "            actor_names = \", \".join(actor['name'] for actor in credits['cast'])\n",
    "\n",
    "            comma_position = [i for i, c in enumerate(actor_names) if c == ',']\n",
    "            if len(comma_position) >= 5:  # keep only 5 for lisibility\n",
    "                main_cast = actor_names[:comma_position[4]]\n",
    "\n",
    "                    \n",
    "        if intent == \"movieinfo\":  # return plot & poster / releaseYear possible\n",
    "            return plot, poster_link\n",
    "\n",
    "        elif intent == \"director\":  # return director & poster\n",
    "            return director, poster_link\n",
    "        \n",
    "        elif intent == \"actors\":  # return actors & poster\n",
    "            return main_cast, poster_link\n",
    "\n",
    "        elif intent == \"releaseYear\":  # return releaseYear & poster\n",
    "            return release_year, poster_link\n",
    "\n",
    "        else:  # if none of the intents match\n",
    "            return None\n"
   ]
  },
  {
   "cell_type": "code",
   "execution_count": 141,
   "id": "6c7544aa",
   "metadata": {},
   "outputs": [
    {
     "name": "stdout",
     "output_type": "stream",
     "text": [
      "Young princess Anna of Arendelle dreams about finding true love at her sister Elsa’s coronation. Fate takes her on a dangerous journey in an attempt to end the eternal winter that has fallen over the kingdom. She's accompanied by ice delivery man Kristoff, his reindeer Sven, and snowman Olaf. On an adventure where she will find out what friendship, courage, family, and true love really means. https://image.tmdb.org/t/p/w500/mbPrrbt8bSLcHSBCHnRclPlMZPl.jpg\n"
     ]
    }
   ],
   "source": [
    "entity, poster = movie_entity_from_intent(\"Frozen\", \"movieinfo\")\n",
    "print(entity, poster)"
   ]
  },
  {
   "cell_type": "code",
   "execution_count": 143,
   "id": "3dc5aa20",
   "metadata": {},
   "outputs": [
    {
     "name": "stdout",
     "output_type": "stream",
     "text": [
      "George Lucas https://image.tmdb.org/t/p/w500/6FfCtAuVAW8XJjZ7eWeLibRLWTw.jpg\n"
     ]
    }
   ],
   "source": [
    "entity, poster = movie_entity_from_intent(\"Star Wars\", \"director\")\n",
    "print(entity, poster)"
   ]
  },
  {
   "cell_type": "code",
   "execution_count": 147,
   "id": "af1e4308",
   "metadata": {},
   "outputs": [
    {
     "name": "stdout",
     "output_type": "stream",
     "text": [
      "2013 https://image.tmdb.org/t/p/w500/mbPrrbt8bSLcHSBCHnRclPlMZPl.jpg\n"
     ]
    }
   ],
   "source": [
    "entity, poster = movie_entity_from_intent(\"Frozen\", \"releaseYear\")\n",
    "print(entity, poster)"
   ]
  },
  {
   "cell_type": "code",
   "execution_count": 214,
   "id": "d78bdac1",
   "metadata": {},
   "outputs": [
    {
     "name": "stdout",
     "output_type": "stream",
     "text": [
      "Leonardo DiCaprio, Kate Winslet, Billy Zane, Kathy Bates, Frances Fisher https://image.tmdb.org/t/p/w500/9xjZS2rlVxm8SFx8kPC3aIGCOYQ.jpg\n"
     ]
    }
   ],
   "source": [
    "entity, poster = movie_entity_from_intent(\"Titanic\", \"actors\")\n",
    "print(entity, poster)"
   ]
  },
  {
   "cell_type": "markdown",
   "id": "3feb4b56",
   "metadata": {},
   "source": [
    "## <span style=\"color:red; font-weight:bold;\">3) Bringing it all together </span>\n",
    "\n",
    "I now have : \n",
    "- a channel on Discord\n",
    "- a trained NLP system on Wit.ai\n",
    "- an API as a database\n",
    "\n",
    "First, let's define the different functions I will need in order to make my main working."
   ]
  },
  {
   "cell_type": "code",
   "execution_count": 221,
   "id": "ac5097f4",
   "metadata": {},
   "outputs": [
    {
     "name": "stderr",
     "output_type": "stream",
     "text": [
      "DEBUG:urllib3.connectionpool:Starting new HTTPS connection (1): api.wit.ai:443\n",
      "DEBUG:urllib3.connectionpool:https://api.wit.ai:443 \"GET /message?q=What+is+Frozen+about%3F HTTP/1.1\" 200 517\n",
      "DEBUG:urllib3.connectionpool:Starting new HTTPS connection (1): api.wit.ai:443\n"
     ]
    },
    {
     "name": "stdout",
     "output_type": "stream",
     "text": [
      "movieinfo\n"
     ]
    },
    {
     "name": "stderr",
     "output_type": "stream",
     "text": [
      "DEBUG:urllib3.connectionpool:https://api.wit.ai:443 \"GET /message?q=Who+directed+Frozen%3F HTTP/1.1\" 200 516\n",
      "DEBUG:urllib3.connectionpool:Starting new HTTPS connection (1): api.wit.ai:443\n"
     ]
    },
    {
     "name": "stdout",
     "output_type": "stream",
     "text": [
      "director\n"
     ]
    },
    {
     "name": "stderr",
     "output_type": "stream",
     "text": [
      "DEBUG:urllib3.connectionpool:https://api.wit.ai:443 \"GET /message?q=Who+are+the+main+actors+in+La+La+Land%3F HTTP/1.1\" 200 538\n"
     ]
    },
    {
     "name": "stdout",
     "output_type": "stream",
     "text": [
      "actors\n"
     ]
    }
   ],
   "source": [
    "# 3) Capture intent and entities (if any)\n",
    "\n",
    "def extract_intent(nlp_data):\n",
    "    return nlp_data['intents'][0]['name']\n",
    "\n",
    "\n",
    "nlp_data = client.message('What is Frozen about?')\n",
    "intent_name = extract_intent(nlp_data)\n",
    "print(intent_name)\n",
    "\n",
    "nlp_data = client.message('Who directed Frozen?')\n",
    "intent_name = extract_intent(nlp_data)\n",
    "print(intent_name)\n",
    "\n",
    "nlp_data = client.message('Who are the main actors in La La Land?')\n",
    "intent_name = extract_intent(nlp_data)\n",
    "print(intent_name)"
   ]
  },
  {
   "cell_type": "code",
   "execution_count": 215,
   "id": "d860c0a5",
   "metadata": {},
   "outputs": [],
   "source": [
    "# 5) Rephrase the data into a full-sentence response\n",
    "\n",
    "def rephrase_response(intent, movie, entity, poster):\n",
    "                \n",
    "    if intent == \"movieinfo\":\n",
    "        answer = f\"🎬 The plot of the movie {movie} is : {entity}. To have a better look on the story, here is the poster: {poster}\"\n",
    "\n",
    "    elif intent == \"director\":\n",
    "        answer = f\"🎥 This is {entity} who directed the fantastical movie {movie}. Have a look at his vision by seeing the movie's poster : {poster}\"\n",
    "\n",
    "    elif intent == \"actors\":    \n",
    "        answer = f\"👤 The movie {movie} is wonderful also thanks to the actors who played in it : {entity}. You can clearly recognize them on the movie's poster: {poster}\"\n",
    "        \n",
    "    elif intent == \"releaseYear\":\n",
    "        answer = f\"🗓️ The movie {movie} was released in {entity}. The atmosphere of that era is reflected on its poster: {poster}\"\n",
    "\n",
    "    else:\n",
    "        return None\n",
    "\n",
    "    return answer"
   ]
  },
  {
   "cell_type": "code",
   "execution_count": 175,
   "id": "cf0fe941",
   "metadata": {},
   "outputs": [],
   "source": [
    "def main_movie(discord_input):\n",
    "    # 2) Send it to the Wit.ai model\n",
    "    wit_access_token = \"XGC7EWF2AKPW4FVQ7PHASOZE7TO6ZS72\"  # I define my access key to wit.ai\n",
    "    client = Wit(wit_access_token)\n",
    "    nlp_data = client.message(discord_input)\n",
    "    # print(nlp_data)\n",
    "\n",
    "    \n",
    "    # 3) Capture intent and entities (if any)\n",
    "    # 4) Query TheMovieDB API to retrieve the required data\n",
    "    intent_found = extract_intent(nlp_data)\n",
    "    print(intent_found)\n",
    "\n",
    "    movieName = extract_entity(nlp_data, \"movieName\")  # f° from section 2.3\n",
    "    print(movieName)\n",
    "\n",
    "    #releaseYear = extract_entity(nlp_data, \"releaseYear\")\n",
    "    #print(releaseYear)\n",
    "\n",
    "    entity, poster = movie_entity_from_intent(movieName, intent_found)\n",
    "    # print(entity, poster)\n",
    "\n",
    "    \n",
    "    # 5) Rephrase the data into a full-sentence response\n",
    "    reply = rephrase_response(intent_found, movieName, entity, poster)\n",
    "\n",
    "    # 6) Reply to the user on Discord\n",
    "    print(reply)\n"
   ]
  },
  {
   "cell_type": "code",
   "execution_count": 176,
   "id": "564900f3",
   "metadata": {},
   "outputs": [
    {
     "name": "stderr",
     "output_type": "stream",
     "text": [
      "DEBUG:urllib3.connectionpool:Starting new HTTPS connection (1): api.wit.ai:443\n",
      "DEBUG:urllib3.connectionpool:https://api.wit.ai:443 \"GET /message?q=Tell+me+about+The+Spiderman+%282007%29 HTTP/1.1\" 200 858\n"
     ]
    },
    {
     "name": "stdout",
     "output_type": "stream",
     "text": [
      "movieinfo\n",
      "the spiderman\n",
      "🎬 The plot of the movie the spiderman is : After reuniting with Gwen Stacy, Brooklyn’s full-time, friendly neighborhood Spider-Man is catapulted across the Multiverse, where he encounters the Spider Society, a team of Spider-People charged with protecting the Multiverse’s very existence. But when the heroes clash on how to handle a new threat, Miles finds himself pitted against the other Spiders and must set out on his own to save those he loves most.. To have a better look on the story, here is the poster: https://image.tmdb.org/t/p/w500/8Vt6mWEReuy4Of61Lnj5Xj704m8.jpg\n"
     ]
    }
   ],
   "source": [
    "# 1) Receive the user’s message input on Discord\n",
    "# For the notebook I define a sentence\n",
    "discord_input = \"Tell me about The Spiderman (2007)\"\n",
    "\n",
    "main_movie(discord_input)"
   ]
  },
  {
   "cell_type": "code",
   "execution_count": 177,
   "id": "fe048f7d",
   "metadata": {},
   "outputs": [
    {
     "name": "stderr",
     "output_type": "stream",
     "text": [
      "DEBUG:urllib3.connectionpool:Starting new HTTPS connection (1): api.wit.ai:443\n",
      "DEBUG:urllib3.connectionpool:https://api.wit.ai:443 \"GET /message?q=Who+directed+Gladiator%3F HTTP/1.1\" 200 525\n",
      "DEBUG:urllib3.connectionpool:Starting new HTTPS connection (1): api.themoviedb.org:443\n"
     ]
    },
    {
     "name": "stdout",
     "output_type": "stream",
     "text": [
      "director\n",
      "Gladiator\n"
     ]
    },
    {
     "name": "stderr",
     "output_type": "stream",
     "text": [
      "DEBUG:urllib3.connectionpool:https://api.themoviedb.org:443 \"GET /3/search/movie?api_key=731f1dd6e50b36840dc855649f445a3b&query=Gladiator&page=1&language=en-US HTTP/1.1\" 200 None\n",
      "DEBUG:urllib3.connectionpool:Starting new HTTPS connection (1): api.themoviedb.org:443\n",
      "DEBUG:urllib3.connectionpool:https://api.themoviedb.org:443 \"GET /3/movie/98/credits?api_key=731f1dd6e50b36840dc855649f445a3b&&language=en-US HTTP/1.1\" 200 None\n"
     ]
    },
    {
     "name": "stdout",
     "output_type": "stream",
     "text": [
      "🎥 This is Ridley Scott who directed the fantastical movie Gladiator. Have a look at his vision by seeing the movie's poster : https://image.tmdb.org/t/p/w500/ty8TGRuvJLPUmAR1H1nRIsgwvim.jpg\n"
     ]
    }
   ],
   "source": [
    "discord_input2 = \"Who directed Gladiator?\"\n",
    "\n",
    "main_movie(discord_input2)"
   ]
  },
  {
   "cell_type": "code",
   "execution_count": 178,
   "id": "76a08ac2",
   "metadata": {},
   "outputs": [
    {
     "name": "stderr",
     "output_type": "stream",
     "text": [
      "DEBUG:urllib3.connectionpool:Starting new HTTPS connection (1): api.wit.ai:443\n",
      "DEBUG:urllib3.connectionpool:https://api.wit.ai:443 \"GET /message?q=when+Titanic+released+in+theaters%3F HTTP/1.1\" 200 533\n",
      "DEBUG:urllib3.connectionpool:Starting new HTTPS connection (1): api.themoviedb.org:443\n",
      "DEBUG:urllib3.connectionpool:https://api.themoviedb.org:443 \"GET /3/search/movie?api_key=731f1dd6e50b36840dc855649f445a3b&query=Titanic&page=1&language=en-US HTTP/1.1\" 200 None\n",
      "DEBUG:urllib3.connectionpool:Starting new HTTPS connection (1): api.themoviedb.org:443\n"
     ]
    },
    {
     "name": "stdout",
     "output_type": "stream",
     "text": [
      "releaseYear\n",
      "Titanic\n"
     ]
    },
    {
     "name": "stderr",
     "output_type": "stream",
     "text": [
      "DEBUG:urllib3.connectionpool:https://api.themoviedb.org:443 \"GET /3/movie/597/credits?api_key=731f1dd6e50b36840dc855649f445a3b&&language=en-US HTTP/1.1\" 200 None\n"
     ]
    },
    {
     "name": "stdout",
     "output_type": "stream",
     "text": [
      "🗓️ The movie Titanic was released in 1997. The atmosphere of that era is reflected on its poster: https://image.tmdb.org/t/p/w500/9xjZS2rlVxm8SFx8kPC3aIGCOYQ.jpg\n"
     ]
    }
   ],
   "source": [
    "discord_input3 = \"when Titanic released in theaters?\"\n",
    "\n",
    "main_movie(discord_input3)"
   ]
  },
  {
   "cell_type": "code",
   "execution_count": 220,
   "id": "4ffb4bd3",
   "metadata": {},
   "outputs": [
    {
     "name": "stderr",
     "output_type": "stream",
     "text": [
      "DEBUG:urllib3.connectionpool:Starting new HTTPS connection (1): api.wit.ai:443\n",
      "DEBUG:urllib3.connectionpool:https://api.wit.ai:443 \"GET /message?q=Who+are+the+main+actors+in+La+La+Land%3F HTTP/1.1\" 200 538\n",
      "DEBUG:urllib3.connectionpool:Starting new HTTPS connection (1): api.themoviedb.org:443\n",
      "DEBUG:urllib3.connectionpool:https://api.themoviedb.org:443 \"GET /3/search/movie?api_key=731f1dd6e50b36840dc855649f445a3b&query=La%20La%20Land&page=1&language=en-US HTTP/1.1\" 200 None\n",
      "DEBUG:urllib3.connectionpool:Starting new HTTPS connection (1): api.themoviedb.org:443\n"
     ]
    },
    {
     "name": "stdout",
     "output_type": "stream",
     "text": [
      "{'entities': {'movieName:movieName': [{'body': 'La La Land', 'confidence': 0.9995, 'end': 37, 'entities': [], 'id': '1613627029224984', 'name': 'movieName', 'role': 'movieName', 'start': 27, 'type': 'value', 'value': 'La La Land'}]}, 'intents': [{'confidence': 0.967946648766318, 'id': '485052284640176', 'name': 'actors'}], 'text': 'Who are the main actors in La La Land?', 'traits': {}}\n",
      "actors\n",
      "La La Land\n"
     ]
    },
    {
     "name": "stderr",
     "output_type": "stream",
     "text": [
      "DEBUG:urllib3.connectionpool:https://api.themoviedb.org:443 \"GET /3/movie/313369/credits?api_key=731f1dd6e50b36840dc855649f445a3b&&language=en-US HTTP/1.1\" 200 None\n"
     ]
    },
    {
     "name": "stdout",
     "output_type": "stream",
     "text": [
      "👤 The movie La La Land is wonderful also thanks to the actors who played in it : Ryan Gosling, Emma Stone, John Legend, Rosemarie DeWitt, J.K. Simmons. You can clearly recognize them on the movie's poster: https://image.tmdb.org/t/p/w500/uDO8zWDhfWwoFdKS4fzkUJt0Rf0.jpg\n"
     ]
    }
   ],
   "source": [
    "discord_input4 = \"Who are the main actors in La La Land?\"\n",
    "\n",
    "main_movie(discord_input4)"
   ]
  },
  {
   "cell_type": "code",
   "execution_count": null,
   "id": "4ccf5dc8",
   "metadata": {},
   "outputs": [],
   "source": []
  }
 ],
 "metadata": {
  "kernelspec": {
   "display_name": "Python 3 (ipykernel)",
   "language": "python",
   "name": "python3"
  },
  "language_info": {
   "codemirror_mode": {
    "name": "ipython",
    "version": 3
   },
   "file_extension": ".py",
   "mimetype": "text/x-python",
   "name": "python",
   "nbconvert_exporter": "python",
   "pygments_lexer": "ipython3",
   "version": "3.10.9"
  }
 },
 "nbformat": 4,
 "nbformat_minor": 5
}
